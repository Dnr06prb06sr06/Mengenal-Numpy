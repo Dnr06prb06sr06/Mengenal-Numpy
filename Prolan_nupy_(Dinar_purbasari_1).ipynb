{
  "nbformat": 4,
  "nbformat_minor": 0,
  "metadata": {
    "colab": {
      "provenance": []
    },
    "kernelspec": {
      "name": "python3",
      "display_name": "Python 3"
    },
    "language_info": {
      "name": "python"
    }
  },
  "cells": [
    {
      "cell_type": "code",
      "execution_count": null,
      "metadata": {
        "id": "X10vU8rYobw3",
        "colab": {
          "base_uri": "https://localhost:8080/"
        },
        "outputId": "242cc730-7afb-4dd0-ebea-71b3b25831c6"
      },
      "outputs": [
        {
          "output_type": "stream",
          "name": "stdout",
          "text": [
            "Requirement already satisfied: numpy in /usr/local/lib/python3.10/dist-packages (1.25.2)\n"
          ]
        }
      ],
      "source": [
        "!pip install numpy"
      ]
    },
    {
      "cell_type": "code",
      "source": [
        "import numpy as np"
      ],
      "metadata": {
        "id": "XqK3XzEdqJp1"
      },
      "execution_count": null,
      "outputs": []
    },
    {
      "cell_type": "markdown",
      "source": [
        "Kami mempersingkat nama yang diimpor menjadi np agar kode lebih mudah dibaca menggunakan NumPy. Ini adalah\n",
        "konvensi yang diadopsi secara luas yang membuat kode Anda lebih mudah dibaca oleh semua orang yang mengerjakannya.\n",
        "Kami menyarankan untuk selalu menggunakan import numpy sebagai np\n",
        "\n",
        "Membaca kode contoh\n",
        "\n",
        "Jika Anda belum terbiasa membaca tutorial yang berisi banyak kode, Anda mungkin tidak tahu cara menafsirkan blok\n",
        "kode yang terlihat seperti ini:"
      ],
      "metadata": {
        "id": "-vB2_cthL64T"
      }
    },
    {
      "cell_type": "code",
      "source": [
        "a =np.arange(6)\n",
        "a2 = a[np.newaxis, :]\n",
        "a2.shape"
      ],
      "metadata": {
        "colab": {
          "base_uri": "https://localhost:8080/"
        },
        "id": "Ax8WvmeDqO2H",
        "outputId": "caeeeb63-39c2-4ebe-d6d9-bb2289d5b29c"
      },
      "execution_count": null,
      "outputs": [
        {
          "output_type": "execute_result",
          "data": {
            "text/plain": [
              "(1, 6)"
            ]
          },
          "metadata": {},
          "execution_count": 49
        }
      ]
    },
    {
      "cell_type": "markdown",
      "source": [
        "Jika Anda belum familiar dengan gaya ini, sangat mudah untuk memahaminya. Jika Anda melihat >>>, berarti Anda sedang\n",
        "melihat input, atau kode yang akan Anda masukkan. Segala sesuatu yang tidak memiliki >>> di depannya adalah\n",
        "keluaran, atau hasil dari menjalankan kode Anda. Ini adalah gaya yang Anda lihat saat menjalankan python di baris perintah,\n",
        "tetapi jika Anda menggunakan IPython, Anda mungkin melihat gaya yang berbeda. Perhatikan bahwa ini bukan bagian\n",
        "dari kode dan akan menyebabkan kesalahan jika diketik atau ditempel ke dalam shell Python. Itu dapat diketik atau ditempel\n",
        "dengan aman ke dalam shell IPython; >>> diabaikan.\n",
        "\n",
        "Array adalah struktur data pusat perpustakaan NumPy. Array adalah kisi-kisi nilai dan berisi informasi tentang data\n",
        "mentah, cara menemukan lokasi elemen, dan cara menafsirkan elemen. Ini memiliki kisi elemen yang dapat diindeks\n",
        "dengan berbagai cara. Semua elemen memiliki tipe yang sama, disebut sebagai array dtype.\n",
        "\n",
        "Sebuah array dapat diindeks dengan serangkaian bilangan bulat non-negatif, dengan boolean, dengan array lain, atau\n",
        "dengan bilangan bulat. Peringkat array adalah jumlah dimensi. Bentuk array adalah kumpulan bilangan bulat yang\n",
        "memberikan ukuran array di setiap dimensinya.\n",
        "Salah satu cara kita menginisialisasi array NumPy adalah dari daftar Python, menggunakan daftar bersarang untuk\n",
        "data dua dimensi atau lebih tinggi.\n",
        "Misalnya:"
      ],
      "metadata": {
        "id": "Cq9nOl0PMend"
      }
    },
    {
      "cell_type": "code",
      "source": [
        "a = np.array([1, 2, 3, 4, 5, 6])\n",
        "a = np.array([[1, 2, 3, 4], [5, 6, 7, 8], [9, 10, 11, 12]])\n",
        "print(a[0])"
      ],
      "metadata": {
        "id": "ZpXfb4VKqtmh"
      },
      "execution_count": null,
      "outputs": []
    },
    {
      "cell_type": "markdown",
      "source": [
        "Kita dapat mengakses elemen-elemen dalam array menggunakan tanda kurung siku. Saat Anda mengakses elemen, ingatlah bahwa pengindeksan di NumPy dimulai dari 0. Artinya, jika Anda ingin mengakses elemen pertama dalam array, Anda akan mengakses elemen “0”.\n",
        "\n",
        "Cara membuat array dasar\n",
        "\n",
        "Bagian ini mencakup np.array(), np.zeros(), np.ones(), np.empty(), np.arange(), np.linspace(), dtype\n",
        "\n",
        "Untuk membuat array NumPy, Anda dapat menggunakan fungsi np.array().\n",
        "\n",
        "Yang perlu Anda lakukan untuk membuat array sederhana adalah meneruskan daftar ke dalamnya. Jika Anda memilihnya, Anda\n",
        "juga dapat menentukan tipe data dalam daftar Anda. Anda dapat menemukan informasi selengkapnya tentang tipe data di sini."
      ],
      "metadata": {
        "id": "xSAaYcOjNX5e"
      }
    },
    {
      "cell_type": "code",
      "source": [
        "import numpy as np\n",
        "a = np.array([1, 2, 3,])\n",
        "print(a)"
      ],
      "metadata": {
        "colab": {
          "base_uri": "https://localhost:8080/"
        },
        "id": "v24h3q4Pe9GT",
        "outputId": "25dfc3a9-23b6-4372-9bd5-141cc778552e"
      },
      "execution_count": null,
      "outputs": [
        {
          "output_type": "stream",
          "name": "stdout",
          "text": [
            "[1 2 3]\n"
          ]
        }
      ]
    },
    {
      "cell_type": "markdown",
      "source": [
        "Sadarilah bahwa visualisasi ini dimaksudkan untuk menyederhanakan ide dan memberi Anda pemahaman dasar\n",
        "\n",
        "tentang konsep dan mekanika NumPy. Operasi array dan array jauh lebih rumit daripada yang digambarkan di sini!\n",
        "\n",
        "Anda dapat membuat array dengan berbagai elemen:\n",
        "\n",
        "Anda dapat memvisualisasikan array Anda dengan cara ini: dengan 0:"
      ],
      "metadata": {
        "id": "JQ5t6mruOAKD"
      }
    },
    {
      "cell_type": "code",
      "source": [
        "np.zeros(2)"
      ],
      "metadata": {
        "colab": {
          "base_uri": "https://localhost:8080/"
        },
        "id": "mXe118N2fQ3W",
        "outputId": "760a8e00-8173-4dc0-a4b3-d1aac7ab9316"
      },
      "execution_count": null,
      "outputs": [
        {
          "output_type": "execute_result",
          "data": {
            "text/plain": [
              "array([0., 0.])"
            ]
          },
          "metadata": {},
          "execution_count": 52
        }
      ]
    },
    {
      "cell_type": "markdown",
      "source": [
        "Atau array yang diisi dengan 1:"
      ],
      "metadata": {
        "id": "9mZR4Z7jONT6"
      }
    },
    {
      "cell_type": "code",
      "source": [
        "np.ones(2)"
      ],
      "metadata": {
        "colab": {
          "base_uri": "https://localhost:8080/"
        },
        "id": "niLIV281fYI6",
        "outputId": "1cb7da3f-3e8c-4f95-eb36-130aa01c0bef"
      },
      "execution_count": null,
      "outputs": [
        {
          "output_type": "execute_result",
          "data": {
            "text/plain": [
              "array([1., 1.])"
            ]
          },
          "metadata": {},
          "execution_count": 53
        }
      ]
    },
    {
      "cell_type": "markdown",
      "source": [
        "Atau bahkan array kosong! Fungsi kosong membuat array yang konten awalnya acak dan bergantung pada keadaan\n",
        "memori. Alasan menggunakan kosong di atas nol (atau yang serupa) adalah kecepatan - pastikan untuk mengisi setiap\n",
        "elemen setelahnya!"
      ],
      "metadata": {
        "id": "UAX4v5NFOOVv"
      }
    },
    {
      "cell_type": "code",
      "source": [
        "np.empty(2)"
      ],
      "metadata": {
        "colab": {
          "base_uri": "https://localhost:8080/"
        },
        "id": "MhBNJzlgfcrp",
        "outputId": "e10c65cd-797a-483b-f62c-afb197565683"
      },
      "execution_count": null,
      "outputs": [
        {
          "output_type": "execute_result",
          "data": {
            "text/plain": [
              "array([1., 1.])"
            ]
          },
          "metadata": {},
          "execution_count": 54
        }
      ]
    },
    {
      "cell_type": "markdown",
      "source": [
        "Anda dapat membuat array dengan berbagai elemen:"
      ],
      "metadata": {
        "id": "0JmlNQmfOSgV"
      }
    },
    {
      "cell_type": "code",
      "source": [
        "np.arange(4)"
      ],
      "metadata": {
        "colab": {
          "base_uri": "https://localhost:8080/"
        },
        "id": "3tnYJeHqfxbh",
        "outputId": "61a7d6c9-b188-42f8-f070-cc6533336edf"
      },
      "execution_count": null,
      "outputs": [
        {
          "output_type": "execute_result",
          "data": {
            "text/plain": [
              "array([0, 1, 2, 3])"
            ]
          },
          "metadata": {},
          "execution_count": 55
        }
      ]
    },
    {
      "cell_type": "markdown",
      "source": [
        "Dan bahkan array yang berisi rentang interval yang berjarak sama. Untuk melakukan ini, Anda akan menentukan\n",
        "angka pertama, angka terakhir, dan ukuran langkah."
      ],
      "metadata": {
        "id": "KgdqIQhFOW_r"
      }
    },
    {
      "cell_type": "code",
      "source": [
        "np.arange(2, 9, 2)"
      ],
      "metadata": {
        "colab": {
          "base_uri": "https://localhost:8080/"
        },
        "id": "kjmYVzATf0uY",
        "outputId": "c80dc661-61c6-41ff-dc02-c76d7575f397"
      },
      "execution_count": null,
      "outputs": [
        {
          "output_type": "execute_result",
          "data": {
            "text/plain": [
              "array([2, 4, 6, 8])"
            ]
          },
          "metadata": {},
          "execution_count": 56
        }
      ]
    },
    {
      "cell_type": "markdown",
      "source": [
        "Anda juga dapat menggunakan np.linspace() untuk membuat array dengan nilai yang diberi jarak linier dalam interval\n",
        "tertentu:"
      ],
      "metadata": {
        "id": "HSFRwfxQOdjr"
      }
    },
    {
      "cell_type": "code",
      "source": [
        "np.linspace(0, 10, num=5)"
      ],
      "metadata": {
        "colab": {
          "base_uri": "https://localhost:8080/"
        },
        "id": "N1g_T59-gELE",
        "outputId": "665c81db-d11e-458d-87e2-7fe1eb8951ec"
      },
      "execution_count": null,
      "outputs": [
        {
          "output_type": "execute_result",
          "data": {
            "text/plain": [
              "array([ 0. ,  2.5,  5. ,  7.5, 10. ])"
            ]
          },
          "metadata": {},
          "execution_count": 57
        }
      ]
    },
    {
      "cell_type": "markdown",
      "source": [
        "Menentukan tipe data Anda\n",
        "\n",
        "Meskipun tipe data defaultnya adalah floating point (np.float64), Anda dapat secara eksplisit menentukan tipe data\n",
        "mana yang Anda inginkan menggunakan kata kunci dtype ."
      ],
      "metadata": {
        "id": "CeIVYyCBOj3j"
      }
    },
    {
      "cell_type": "code",
      "source": [
        "x = np.ones(2, dtype = np.int64)\n",
        "x"
      ],
      "metadata": {
        "colab": {
          "base_uri": "https://localhost:8080/"
        },
        "id": "ZuNICCGagRlU",
        "outputId": "442f6eda-e2f0-4688-fa69-5aae3f62b870"
      },
      "execution_count": null,
      "outputs": [
        {
          "output_type": "execute_result",
          "data": {
            "text/plain": [
              "array([1, 1])"
            ]
          },
          "metadata": {},
          "execution_count": 58
        }
      ]
    },
    {
      "cell_type": "markdown",
      "source": [
        "Mengurutkan elemen itu mudah dengan np.sort(). Anda dapat menentukan sumbu, jenis, dan urutan\n",
        "saat memanggil fungsi."
      ],
      "metadata": {
        "id": "IsGwC0LjO0-7"
      }
    },
    {
      "cell_type": "code",
      "source": [
        "arr = np.array([2, 1, 5, 3, 7, 4, 6, 8])\n",
        "np.sort(arr)"
      ],
      "metadata": {
        "colab": {
          "base_uri": "https://localhost:8080/"
        },
        "id": "26DicyOsgylB",
        "outputId": "8c1ab9f7-69bb-42bd-b9a5-94368d315df4"
      },
      "execution_count": null,
      "outputs": [
        {
          "output_type": "execute_result",
          "data": {
            "text/plain": [
              "array([1, 2, 3, 4, 5, 6, 7, 8])"
            ]
          },
          "metadata": {},
          "execution_count": 59
        }
      ]
    },
    {
      "cell_type": "markdown",
      "source": [
        "Anda dapat dengan cepat mengurutkan angka dalam urutan menaik dengan:\n",
        "\n",
        "Jika Anda memulai dengan array ini:"
      ],
      "metadata": {
        "id": "UtYA5YGcO5Ia"
      }
    },
    {
      "cell_type": "code",
      "source": [
        "a = np.array([1, 2, 3,4])\n",
        "b = np.array([5, 6, 7, 8])\n",
        "np.concatenate((a, b))"
      ],
      "metadata": {
        "colab": {
          "base_uri": "https://localhost:8080/"
        },
        "id": "LnoSMUtGhKUP",
        "outputId": "fb79eee5-79a0-4e3e-9cc1-ad8c259ad2eb"
      },
      "execution_count": null,
      "outputs": [
        {
          "output_type": "execute_result",
          "data": {
            "text/plain": [
              "array([1, 2, 3, 4, 5, 6, 7, 8])"
            ]
          },
          "metadata": {},
          "execution_count": 60
        }
      ]
    },
    {
      "cell_type": "markdown",
      "source": [
        "Anda dapat menggabungkannya dengan np.concatenate()."
      ],
      "metadata": {
        "id": "6FJXDi_aPEwt"
      }
    },
    {
      "cell_type": "code",
      "source": [
        "x =np.array([[1, 2], [3, 4]])\n",
        "y =np.array([[5, 6]])\n",
        "\n",
        "np.concatenate((x, y), axis=0)"
      ],
      "metadata": {
        "colab": {
          "base_uri": "https://localhost:8080/"
        },
        "id": "csSOOo7AhR8K",
        "outputId": "e418e46c-bf99-4510-a4e1-b1ec4aa533a5"
      },
      "execution_count": null,
      "outputs": [
        {
          "output_type": "execute_result",
          "data": {
            "text/plain": [
              "array([[1, 2],\n",
              "       [3, 4],\n",
              "       [5, 6]])"
            ]
          },
          "metadata": {},
          "execution_count": 61
        }
      ]
    },
    {
      "cell_type": "markdown",
      "source": [
        "Atau, jika Anda memulai dengan array berikut:\n",
        "\n",
        "Untuk menghapus elemen dari array, cukup gunakan pengindeksan untuk memilih elemen yang ingin\n",
        "Anda pertahankan."
      ],
      "metadata": {
        "id": "Qtn7Bl3QPIwd"
      }
    },
    {
      "cell_type": "code",
      "source": [
        "array_example= np.array([[[0, 1, 2, 3],\n",
        "                          [4, 5, 6, 7]],\n",
        "\n",
        "                         [[0, 1, 2, 3],\n",
        "                          [4, 5, 6, 7]],\n",
        "\n",
        "                         [[0, 1, 2, 3],\n",
        "                          [4, 5, 6, 7]]])\n",
        "array_example.ndim"
      ],
      "metadata": {
        "colab": {
          "base_uri": "https://localhost:8080/"
        },
        "id": "chTebT-7iY4y",
        "outputId": "ed437b7f-07f0-4621-da99-adf6b352ccec"
      },
      "execution_count": null,
      "outputs": [
        {
          "output_type": "execute_result",
          "data": {
            "text/plain": [
              "3"
            ]
          },
          "metadata": {},
          "execution_count": 24
        }
      ]
    },
    {
      "cell_type": "markdown",
      "source": [
        "Bagaimana cara mengetahui bentuk dan ukuran array?\n",
        "ndarray.ndim akan memberi tahu Anda jumlah sumbu, atau dimensi, dari array.\n",
        "[[0 ,1 ,2, 3],\n",
        "Untuk menemukan jumlah total elemen dalam array, jalankan:\n",
        "Dan untuk menemukan bentuk array Anda, jalankan:\n",
        "...\n",
        "ndarray.shape akan menampilkan tupel bilangan bulat yang menunjukkan jumlah elemen\n",
        "yang disimpan di setiap dimensi array. Jika, misalnya, Anda memiliki array ini:"
      ],
      "metadata": {
        "id": "BXX5_odKPxXr"
      }
    },
    {
      "cell_type": "code",
      "source": [
        "array_example.size"
      ],
      "metadata": {
        "colab": {
          "base_uri": "https://localhost:8080/"
        },
        "id": "HAYiy9w_kGF6",
        "outputId": "ef0517d2-bbfe-41c9-b8f8-6e4e9ec291c3"
      },
      "execution_count": null,
      "outputs": [
        {
          "output_type": "execute_result",
          "data": {
            "text/plain": [
              "24"
            ]
          },
          "metadata": {},
          "execution_count": 34
        }
      ]
    },
    {
      "cell_type": "markdown",
      "source": [
        "Untuk menemukan jumlah total elemen dalam array, jalankan:"
      ],
      "metadata": {
        "id": "Q4dOcLbpP3Jm"
      }
    },
    {
      "cell_type": "code",
      "source": [
        "array_example.shape"
      ],
      "metadata": {
        "colab": {
          "base_uri": "https://localhost:8080/"
        },
        "id": "8wIwWC1ukM05",
        "outputId": "9dfc0688-0ada-43dd-dc2b-6e021eedea96"
      },
      "execution_count": null,
      "outputs": [
        {
          "output_type": "execute_result",
          "data": {
            "text/plain": [
              "(3, 2, 4)"
            ]
          },
          "metadata": {},
          "execution_count": 62
        }
      ]
    },
    {
      "cell_type": "markdown",
      "source": [
        "Menggunakan arr.reshape() akan memberikan bentuk baru pada array tanpa mengubah\n",
        "datanya. Ingatlah bahwa ketika Anda menggunakan metode reshape, array yang ingin Anda\n",
        "hasilkan harus memiliki jumlah elemen yang sama dengan array aslinya. Jika Anda memulai\n",
        "dengan array dengan 12 elemen, Anda harus memastikan bahwa array baru Anda juga memiliki total 12 elemen maka jalankan ini:"
      ],
      "metadata": {
        "id": "WcqDj_29QPj5"
      }
    },
    {
      "cell_type": "code",
      "source": [
        "a =np.arange(6)\n",
        "print(a)"
      ],
      "metadata": {
        "colab": {
          "base_uri": "https://localhost:8080/"
        },
        "id": "waR9nRs-kaWX",
        "outputId": "7826b5e9-6952-4a24-e644-0c372219587e"
      },
      "execution_count": null,
      "outputs": [
        {
          "output_type": "stream",
          "name": "stdout",
          "text": [
            "[0 1 2 3 4 5]\n"
          ]
        }
      ]
    },
    {
      "cell_type": "markdown",
      "source": [
        "Anda dapat menggunakan reshape() untuk membentuk ulang array Anda. Misalnya, Anda bisa membentuk ulang larik\n",
        "ini menjadi larik dengan tiga baris dan dua kolom:"
      ],
      "metadata": {
        "id": "TfJry41VQAfh"
      }
    },
    {
      "cell_type": "code",
      "source": [
        "b =a.reshape(3, 2)\n",
        "print(b)"
      ],
      "metadata": {
        "colab": {
          "base_uri": "https://localhost:8080/"
        },
        "id": "mOljGSc9kkmN",
        "outputId": "c04be3f2-c4da-4d5d-c05a-5c5bd658a3b4"
      },
      "execution_count": null,
      "outputs": [
        {
          "output_type": "stream",
          "name": "stdout",
          "text": [
            "[[0 1]\n",
            " [2 3]\n",
            " [4 5]]\n"
          ]
        }
      ]
    },
    {
      "cell_type": "markdown",
      "source": [
        "Dengan np.reshape, Anda dapat menentukan beberapa parameter opsional:"
      ],
      "metadata": {
        "id": "FL82fOPDQa_M"
      }
    },
    {
      "cell_type": "code",
      "source": [
        "np.reshape(a, newshape = (1, 6), order = 'c')"
      ],
      "metadata": {
        "colab": {
          "base_uri": "https://localhost:8080/"
        },
        "id": "OGo5j3PVmqxZ",
        "outputId": "d74bab6b-c3a6-49ff-f376-110d4407410c"
      },
      "execution_count": null,
      "outputs": [
        {
          "output_type": "execute_result",
          "data": {
            "text/plain": [
              "array([[1, 2, 3, 4, 5, 6]])"
            ]
          },
          "metadata": {},
          "execution_count": 70
        }
      ]
    },
    {
      "cell_type": "markdown",
      "source": [
        "a adalah array yang akan dibentuk ulang.\n",
        "newshape adalah bentuk baru yang Anda inginkan. Anda dapat menentukan bilangan bulat atau tupel bilangan bulat.\n",
        "Jika Anda menentukan bilangan bulat, hasilnya akan berupa array dengan panjang tersebut. Bentuknya harus sesuai\n",
        "dengan bentuk aslinya.\n",
        "\n",
        "Menggunakan np.newaxis akan menambah dimensi array Anda sebanyak satu dimensi bila digunakan sekali.\n",
        "Artinya array 1D akan menjadi array 2D , array 2D akan menjadi array 3D , dan seterusnya.\n",
        "\n",
        "urutan: C berarti membaca/menulis elemen menggunakan urutan indeks mirip C, F berarti membaca/menulis elemen\n",
        "menggunakan urutan indeks mirip Fortran, A berarti membaca/menulis elemen dalam urutan indeks mirip Fortran\n",
        "jika a adalah Fortran bersebelahan dalam memori, urutan seperti C sebaliknya. (Ini adalah parameter opsional\n",
        "dan tidak perlu ditentukan.)\n",
        "\n",
        "Misalnya, jika Anda memulai dengan array ini:"
      ],
      "metadata": {
        "id": "ODABNAcSQpo_"
      }
    },
    {
      "cell_type": "code",
      "source": [
        "a = np.array([1,2,3,4,5,6])"
      ],
      "metadata": {
        "id": "WAEUQezXr9X4"
      },
      "execution_count": null,
      "outputs": []
    },
    {
      "cell_type": "markdown",
      "source": [
        "Anda dapat menggunakan np.newaxis untuk menambahkan sumbu baru:\n",
        "\n",
        "Anda dapat secara eksplisit mengonversi array 1D dengan vektor baris atau vektor kolom menggunakan\n",
        "np.newaxis. Misalnya, Anda dapat mengonversi array 1D menjadi vektor baris dengan menyisipkan sumbu\n",
        "di sepanjang dimensi pertama:"
      ],
      "metadata": {
        "id": "owgyM1PaRCKQ"
      }
    },
    {
      "cell_type": "code",
      "source": [
        "a2 = a[np.sumbu baru,:]"
      ],
      "metadata": {
        "colab": {
          "base_uri": "https://localhost:8080/",
          "height": 141
        },
        "id": "HTYU1V6E8jOs",
        "outputId": "ced44330-4a1f-4444-8d43-a60558f3e479"
      },
      "execution_count": null,
      "outputs": [
        {
          "output_type": "error",
          "ename": "SyntaxError",
          "evalue": "invalid syntax. Perhaps you forgot a comma? (<ipython-input-81-1f1ed7f772f4>, line 1)",
          "traceback": [
            "\u001b[0;36m  File \u001b[0;32m\"<ipython-input-81-1f1ed7f772f4>\"\u001b[0;36m, line \u001b[0;32m1\u001b[0m\n\u001b[0;31m    a2 = a[np.sumbu baru,:]\u001b[0m\n\u001b[0m           ^\u001b[0m\n\u001b[0;31mSyntaxError\u001b[0m\u001b[0;31m:\u001b[0m invalid syntax. Perhaps you forgot a comma?\n"
          ]
        }
      ]
    },
    {
      "cell_type": "markdown",
      "source": [
        "Anda dapat secara eksplisit mengonversi array 1D dengan vektor baris atau vektor kolom menggunakan\n",
        "\n",
        "np.newaxis. Misalnya, Anda dapat mengonversi array 1D menjadi vektor baris dengan menyisipkan sumbu\n",
        "\n",
        "di sepanjang dimensi pertama:"
      ],
      "metadata": {
        "id": "LckArLDARQbY"
      }
    },
    {
      "cell_type": "code",
      "source": [
        "vektor_baris = a[np.sumbu baru,:]"
      ],
      "metadata": {
        "colab": {
          "base_uri": "https://localhost:8080/",
          "height": 141
        },
        "id": "HY58p6Ud-XuO",
        "outputId": "f2d45524-6e8e-40a2-8da3-c9cb2e7671df"
      },
      "execution_count": null,
      "outputs": [
        {
          "output_type": "error",
          "ename": "SyntaxError",
          "evalue": "invalid syntax. Perhaps you forgot a comma? (<ipython-input-82-c12116f1c1c8>, line 1)",
          "traceback": [
            "\u001b[0;36m  File \u001b[0;32m\"<ipython-input-82-c12116f1c1c8>\"\u001b[0;36m, line \u001b[0;32m1\u001b[0m\n\u001b[0;31m    vektor_baris = a[np.sumbu baru,:]\u001b[0m\n\u001b[0m                     ^\u001b[0m\n\u001b[0;31mSyntaxError\u001b[0m\u001b[0;31m:\u001b[0m invalid syntax. Perhaps you forgot a comma?\n"
          ]
        }
      ]
    },
    {
      "cell_type": "markdown",
      "source": [
        "Atau, untuk vektor kolom, Anda bisa menyisipkan sumbu sepanjang dimensi kedua:"
      ],
      "metadata": {
        "id": "JkpxogBJRXrc"
      }
    },
    {
      "cell_type": "code",
      "source": [
        "a2 = a[np.newaxis, :]\n",
        "a2.shape"
      ],
      "metadata": {
        "colab": {
          "base_uri": "https://localhost:8080/"
        },
        "id": "zk_wLsF7nttt",
        "outputId": "51b89307-fb14-4753-a340-36a436bb70da"
      },
      "execution_count": null,
      "outputs": [
        {
          "output_type": "execute_result",
          "data": {
            "text/plain": [
              "(1, 6)"
            ]
          },
          "metadata": {},
          "execution_count": 31
        }
      ]
    },
    {
      "cell_type": "code",
      "source": [
        "col_vector = a[: ,np.newaxis]\n",
        "col_vector.shape"
      ],
      "metadata": {
        "colab": {
          "base_uri": "https://localhost:8080/"
        },
        "id": "5TiYG8B8oaz3",
        "outputId": "7ffe06c0-33ad-459a-9c42-3bb250267b64"
      },
      "execution_count": null,
      "outputs": [
        {
          "output_type": "execute_result",
          "data": {
            "text/plain": [
              "(6, 1)"
            ]
          },
          "metadata": {},
          "execution_count": 78
        }
      ]
    },
    {
      "cell_type": "markdown",
      "source": [
        "Anda juga dapat memperluas array dengan menyisipkan sumbu baru pada posisi tertentu\n",
        "dengan np.expand_dims.\n",
        "\n",
        "Misalnya, jika Anda memulai dengan array ini:"
      ],
      "metadata": {
        "id": "icLmEJqmRqLV"
      }
    },
    {
      "cell_type": "code",
      "source": [
        "a = np.array([1, 2, 3, 4, 5, 6])"
      ],
      "metadata": {
        "id": "rx2lTjWHo2Vw"
      },
      "execution_count": null,
      "outputs": []
    },
    {
      "cell_type": "markdown",
      "source": [
        "Anda dapat menggunakan np.expand_dims untuk menambahkan sumbu pada posisi indeks 1 dengan:"
      ],
      "metadata": {
        "id": "ZsR9TBAFRxl5"
      }
    },
    {
      "cell_type": "code",
      "source": [
        "b = np.expand_dims(a, sumbu=1)\n",
        "b."
      ],
      "metadata": {
        "colab": {
          "base_uri": "https://localhost:8080/",
          "height": 228
        },
        "id": "3jeCftcSpLQH",
        "outputId": "6d78ff91-4a17-4671-9542-87b3827ab2f7"
      },
      "execution_count": null,
      "outputs": [
        {
          "output_type": "error",
          "ename": "TypeError",
          "evalue": "expand_dims() got an unexpected keyword argument 'sumbu'",
          "traceback": [
            "\u001b[0;31m---------------------------------------------------------------------------\u001b[0m",
            "\u001b[0;31mTypeError\u001b[0m                                 Traceback (most recent call last)",
            "\u001b[0;32m<ipython-input-80-266ad3b0668e>\u001b[0m in \u001b[0;36m<cell line: 1>\u001b[0;34m()\u001b[0m\n\u001b[0;32m----> 1\u001b[0;31m \u001b[0mb\u001b[0m \u001b[0;34m=\u001b[0m \u001b[0mnp\u001b[0m\u001b[0;34m.\u001b[0m\u001b[0mexpand_dims\u001b[0m\u001b[0;34m(\u001b[0m\u001b[0ma\u001b[0m\u001b[0;34m,\u001b[0m \u001b[0msumbu\u001b[0m\u001b[0;34m=\u001b[0m\u001b[0;36m1\u001b[0m\u001b[0;34m)\u001b[0m\u001b[0;34m\u001b[0m\u001b[0;34m\u001b[0m\u001b[0m\n\u001b[0m\u001b[1;32m      2\u001b[0m \u001b[0mb\u001b[0m\u001b[0;34m.\u001b[0m \u001b[0mbentuk\u001b[0m\u001b[0;34m\u001b[0m\u001b[0;34m\u001b[0m\u001b[0m\n",
            "\u001b[0;31mTypeError\u001b[0m: expand_dims() got an unexpected keyword argument 'sumbu'"
          ]
        }
      ]
    },
    {
      "cell_type": "markdown",
      "source": [
        "Anda dapat menambahkan sumbu pada posisi indeks 0 dengan:"
      ],
      "metadata": {
        "id": "rlZQZswWR1pr"
      }
    },
    {
      "cell_type": "code",
      "source": [
        "c = np.expand_dims(a, axis=0)\n",
        "c. bentuk"
      ],
      "metadata": {
        "colab": {
          "base_uri": "https://localhost:8080/",
          "height": 228
        },
        "id": "34B8KiATpk5z",
        "outputId": "36ef0a6f-4e2f-42cb-a69b-0c58af0bf902"
      },
      "execution_count": null,
      "outputs": [
        {
          "output_type": "error",
          "ename": "AttributeError",
          "evalue": "'numpy.ndarray' object has no attribute 'bentuk'",
          "traceback": [
            "\u001b[0;31m---------------------------------------------------------------------------\u001b[0m",
            "\u001b[0;31mAttributeError\u001b[0m                            Traceback (most recent call last)",
            "\u001b[0;32m<ipython-input-83-f8a4c365db8e>\u001b[0m in \u001b[0;36m<cell line: 2>\u001b[0;34m()\u001b[0m\n\u001b[1;32m      1\u001b[0m \u001b[0mc\u001b[0m \u001b[0;34m=\u001b[0m \u001b[0mnp\u001b[0m\u001b[0;34m.\u001b[0m\u001b[0mexpand_dims\u001b[0m\u001b[0;34m(\u001b[0m\u001b[0ma\u001b[0m\u001b[0;34m,\u001b[0m \u001b[0maxis\u001b[0m\u001b[0;34m=\u001b[0m\u001b[0;36m0\u001b[0m\u001b[0;34m)\u001b[0m\u001b[0;34m\u001b[0m\u001b[0;34m\u001b[0m\u001b[0m\n\u001b[0;32m----> 2\u001b[0;31m \u001b[0mc\u001b[0m\u001b[0;34m.\u001b[0m \u001b[0mbentuk\u001b[0m\u001b[0;34m\u001b[0m\u001b[0;34m\u001b[0m\u001b[0m\n\u001b[0m",
            "\u001b[0;31mAttributeError\u001b[0m: 'numpy.ndarray' object has no attribute 'bentuk'"
          ]
        }
      ]
    },
    {
      "cell_type": "code",
      "source": [
        "data = np.array([1, 2, 3])\n",
        "data[1]\n",
        "data [0:2]\n",
        "data[1:]\n",
        "data[-2:]"
      ],
      "metadata": {
        "colab": {
          "base_uri": "https://localhost:8080/",
          "height": 263
        },
        "id": "fHep59tppuQf",
        "outputId": "f1e8f31c-0e76-4459-8747-a71d0094e51b"
      },
      "execution_count": null,
      "outputs": [
        {
          "output_type": "error",
          "ename": "NameError",
          "evalue": "name 'np' is not defined",
          "traceback": [
            "\u001b[0;31m---------------------------------------------------------------------------\u001b[0m",
            "\u001b[0;31mNameError\u001b[0m                                 Traceback (most recent call last)",
            "\u001b[0;32m<ipython-input-8-16eb47316549>\u001b[0m in \u001b[0;36m<cell line: 1>\u001b[0;34m()\u001b[0m\n\u001b[0;32m----> 1\u001b[0;31m \u001b[0mdata\u001b[0m \u001b[0;34m=\u001b[0m \u001b[0mnp\u001b[0m\u001b[0;34m.\u001b[0m\u001b[0marray\u001b[0m\u001b[0;34m(\u001b[0m\u001b[0;34m[\u001b[0m\u001b[0;36m1\u001b[0m\u001b[0;34m,\u001b[0m \u001b[0;36m2\u001b[0m\u001b[0;34m,\u001b[0m \u001b[0;36m3\u001b[0m\u001b[0;34m]\u001b[0m\u001b[0;34m)\u001b[0m\u001b[0;34m\u001b[0m\u001b[0;34m\u001b[0m\u001b[0m\n\u001b[0m\u001b[1;32m      2\u001b[0m \u001b[0mdata\u001b[0m\u001b[0;34m[\u001b[0m\u001b[0;36m1\u001b[0m\u001b[0;34m]\u001b[0m\u001b[0;34m\u001b[0m\u001b[0;34m\u001b[0m\u001b[0m\n\u001b[1;32m      3\u001b[0m \u001b[0mdata\u001b[0m \u001b[0;34m[\u001b[0m\u001b[0;36m0\u001b[0m\u001b[0;34m:\u001b[0m\u001b[0;36m2\u001b[0m\u001b[0;34m]\u001b[0m\u001b[0;34m\u001b[0m\u001b[0;34m\u001b[0m\u001b[0m\n\u001b[1;32m      4\u001b[0m \u001b[0mdata\u001b[0m\u001b[0;34m[\u001b[0m\u001b[0;36m1\u001b[0m\u001b[0;34m:\u001b[0m\u001b[0;34m]\u001b[0m\u001b[0;34m\u001b[0m\u001b[0;34m\u001b[0m\u001b[0m\n\u001b[1;32m      5\u001b[0m \u001b[0mdata\u001b[0m\u001b[0;34m[\u001b[0m\u001b[0;34m-\u001b[0m\u001b[0;36m2\u001b[0m\u001b[0;34m:\u001b[0m\u001b[0;34m]\u001b[0m\u001b[0;34m\u001b[0m\u001b[0;34m\u001b[0m\u001b[0m\n",
            "\u001b[0;31mNameError\u001b[0m: name 'np' is not defined"
          ]
        }
      ]
    },
    {
      "cell_type": "markdown",
      "source": [
        "Anda mungkin ingin mengambil bagian dari array Anda atau elemen array tertentu untuk digunakan dalam analisis lebih lanjut atau operasi tambahan. Untuk melakukan itu, Anda perlu membuat subset, mengiris, dan/atau mengindeks file Anda Anda dapat memilih elemen yang habis dibagi 2:\n",
        "\n",
        "Misalnya, jika Anda memulai dengan array ini:"
      ],
      "metadata": {
        "id": "kv5wTlKFSyjb"
      }
    },
    {
      "cell_type": "code",
      "source": [
        "a = np.array([[1,2,3,4], [5,6,7,8], [9,10,11,12]])\n",
        "\n",
        "print(a[a < 5])"
      ],
      "metadata": {
        "colab": {
          "base_uri": "https://localhost:8080/",
          "height": 245
        },
        "id": "epzk14NNsPb7",
        "outputId": "3e3f0a0b-033d-406c-e30b-37afd071b0b5"
      },
      "execution_count": null,
      "outputs": [
        {
          "output_type": "error",
          "ename": "NameError",
          "evalue": "name 'np' is not defined",
          "traceback": [
            "\u001b[0;31m---------------------------------------------------------------------------\u001b[0m",
            "\u001b[0;31mNameError\u001b[0m                                 Traceback (most recent call last)",
            "\u001b[0;32m<ipython-input-20-7a83a5a86713>\u001b[0m in \u001b[0;36m<cell line: 1>\u001b[0;34m()\u001b[0m\n\u001b[0;32m----> 1\u001b[0;31m \u001b[0ma\u001b[0m \u001b[0;34m=\u001b[0m \u001b[0mnp\u001b[0m\u001b[0;34m.\u001b[0m\u001b[0marray\u001b[0m\u001b[0;34m(\u001b[0m\u001b[0;34m[\u001b[0m\u001b[0;34m[\u001b[0m\u001b[0;36m1\u001b[0m\u001b[0;34m,\u001b[0m\u001b[0;36m2\u001b[0m\u001b[0;34m,\u001b[0m\u001b[0;36m3\u001b[0m\u001b[0;34m,\u001b[0m\u001b[0;36m4\u001b[0m\u001b[0;34m]\u001b[0m\u001b[0;34m,\u001b[0m \u001b[0;34m[\u001b[0m\u001b[0;36m5\u001b[0m\u001b[0;34m,\u001b[0m\u001b[0;36m6\u001b[0m\u001b[0;34m,\u001b[0m\u001b[0;36m7\u001b[0m\u001b[0;34m,\u001b[0m\u001b[0;36m8\u001b[0m\u001b[0;34m]\u001b[0m\u001b[0;34m,\u001b[0m \u001b[0;34m[\u001b[0m\u001b[0;36m9\u001b[0m\u001b[0;34m,\u001b[0m\u001b[0;36m10\u001b[0m\u001b[0;34m,\u001b[0m\u001b[0;36m11\u001b[0m\u001b[0;34m,\u001b[0m\u001b[0;36m12\u001b[0m\u001b[0;34m]\u001b[0m\u001b[0;34m]\u001b[0m\u001b[0;34m)\u001b[0m\u001b[0;34m\u001b[0m\u001b[0;34m\u001b[0m\u001b[0m\n\u001b[0m\u001b[1;32m      2\u001b[0m \u001b[0;34m\u001b[0m\u001b[0m\n\u001b[1;32m      3\u001b[0m \u001b[0mprint\u001b[0m\u001b[0;34m(\u001b[0m\u001b[0ma\u001b[0m\u001b[0;34m[\u001b[0m\u001b[0ma\u001b[0m \u001b[0;34m<\u001b[0m \u001b[0;36m5\u001b[0m\u001b[0;34m]\u001b[0m\u001b[0;34m)\u001b[0m\u001b[0;34m\u001b[0m\u001b[0;34m\u001b[0m\u001b[0m\n",
            "\u001b[0;31mNameError\u001b[0m: name 'np' is not defined"
          ]
        }
      ]
    },
    {
      "cell_type": "markdown",
      "source": [
        "Anda dapat dengan mudah mencetak semua nilai dalam array yang kurang dari 5."
      ],
      "metadata": {
        "id": "zhiUOxVcS9yg"
      }
    },
    {
      "cell_type": "code",
      "source": [
        "five_up = (a >= 5)\n",
        "print(a[five_up])"
      ],
      "metadata": {
        "colab": {
          "base_uri": "https://localhost:8080/",
          "height": 211
        },
        "id": "exBS52sFq9TM",
        "outputId": "b8a1d092-be3c-4d5d-c779-4c5a6079af4b"
      },
      "execution_count": null,
      "outputs": [
        {
          "output_type": "error",
          "ename": "NameError",
          "evalue": "name 'a' is not defined",
          "traceback": [
            "\u001b[0;31m---------------------------------------------------------------------------\u001b[0m",
            "\u001b[0;31mNameError\u001b[0m                                 Traceback (most recent call last)",
            "\u001b[0;32m<ipython-input-21-81e97ab5958a>\u001b[0m in \u001b[0;36m<cell line: 1>\u001b[0;34m()\u001b[0m\n\u001b[0;32m----> 1\u001b[0;31m \u001b[0mfive_up\u001b[0m \u001b[0;34m=\u001b[0m \u001b[0;34m(\u001b[0m\u001b[0ma\u001b[0m \u001b[0;34m>=\u001b[0m \u001b[0;36m5\u001b[0m\u001b[0;34m)\u001b[0m\u001b[0;34m\u001b[0m\u001b[0;34m\u001b[0m\u001b[0m\n\u001b[0m\u001b[1;32m      2\u001b[0m \u001b[0mprint\u001b[0m\u001b[0;34m(\u001b[0m\u001b[0ma\u001b[0m\u001b[0;34m[\u001b[0m\u001b[0mfive_up\u001b[0m\u001b[0;34m]\u001b[0m\u001b[0;34m)\u001b[0m\u001b[0;34m\u001b[0m\u001b[0;34m\u001b[0m\u001b[0m\n",
            "\u001b[0;31mNameError\u001b[0m: name 'a' is not defined"
          ]
        }
      ]
    },
    {
      "cell_type": "markdown",
      "source": [
        "Anda juga dapat memilih, misalnya, angka yang sama dengan atau lebih besar dari 5, dan menggunakan kondisi\n",
        "tersebut untuk mengindeks array."
      ],
      "metadata": {
        "id": "6W_zALJMTBRj"
      }
    },
    {
      "cell_type": "code",
      "source": [
        "dibagi_oleh_2 = a[a%2==0]\n",
        "print(dibagi_oleh_2)"
      ],
      "metadata": {
        "colab": {
          "base_uri": "https://localhost:8080/"
        },
        "id": "z5SGDjvtvudK",
        "outputId": "4917bd5c-0789-4368-e5ab-3c0f8f23e3a0"
      },
      "execution_count": null,
      "outputs": [
        {
          "output_type": "stream",
          "name": "stdout",
          "text": [
            "[2 4 6]\n"
          ]
        }
      ]
    },
    {
      "cell_type": "markdown",
      "source": [
        "Anda dapat memilih elemen yang habis dibagi 2:"
      ],
      "metadata": {
        "id": "jVhUluhDTGld"
      }
    },
    {
      "cell_type": "code",
      "source": [
        "c = a[(a > 2) & (a < 11)]\n",
        "cetak(c)"
      ],
      "metadata": {
        "colab": {
          "base_uri": "https://localhost:8080/",
          "height": 211
        },
        "id": "6P1Ov1-ovynk",
        "outputId": "e247cca7-e869-46d4-d6f3-8b516ae5aad7"
      },
      "execution_count": null,
      "outputs": [
        {
          "output_type": "error",
          "ename": "NameError",
          "evalue": "name 'cetak' is not defined",
          "traceback": [
            "\u001b[0;31m---------------------------------------------------------------------------\u001b[0m",
            "\u001b[0;31mNameError\u001b[0m                                 Traceback (most recent call last)",
            "\u001b[0;32m<ipython-input-85-322197c2ecb3>\u001b[0m in \u001b[0;36m<cell line: 2>\u001b[0;34m()\u001b[0m\n\u001b[1;32m      1\u001b[0m \u001b[0mc\u001b[0m \u001b[0;34m=\u001b[0m \u001b[0ma\u001b[0m\u001b[0;34m[\u001b[0m\u001b[0;34m(\u001b[0m\u001b[0ma\u001b[0m \u001b[0;34m>\u001b[0m \u001b[0;36m2\u001b[0m\u001b[0;34m)\u001b[0m \u001b[0;34m&\u001b[0m \u001b[0;34m(\u001b[0m\u001b[0ma\u001b[0m \u001b[0;34m<\u001b[0m \u001b[0;36m11\u001b[0m\u001b[0;34m)\u001b[0m\u001b[0;34m]\u001b[0m\u001b[0;34m\u001b[0m\u001b[0;34m\u001b[0m\u001b[0m\n\u001b[0;32m----> 2\u001b[0;31m \u001b[0mcetak\u001b[0m\u001b[0;34m(\u001b[0m\u001b[0mc\u001b[0m\u001b[0;34m)\u001b[0m\u001b[0;34m\u001b[0m\u001b[0;34m\u001b[0m\u001b[0m\n\u001b[0m",
            "\u001b[0;31mNameError\u001b[0m: name 'cetak' is not defined"
          ]
        }
      ]
    },
    {
      "cell_type": "markdown",
      "source": [
        "Atau Anda dapat memilih elemen yang memenuhi dua kondisi menggunakan & dan | operator:"
      ],
      "metadata": {
        "id": "IBkd3uCwTKtL"
      }
    },
    {
      "cell_type": "code",
      "source": [
        "five_up = (a > 5) | (a == 5)\n",
        "print(five_up)"
      ],
      "metadata": {
        "colab": {
          "base_uri": "https://localhost:8080/"
        },
        "id": "p0GJZ0vNv3RG",
        "outputId": "f720c18e-8264-4151-b780-d4324f3e63b8"
      },
      "execution_count": null,
      "outputs": [
        {
          "output_type": "stream",
          "name": "stdout",
          "text": [
            "[False False False False  True  True]\n"
          ]
        }
      ]
    },
    {
      "cell_type": "markdown",
      "source": [
        "Anda juga dapat menggunakan np.nonzero() untuk memilih elemen atau indeks dari array.\n",
        "\n",
        "Dimulai dengan array ini:"
      ],
      "metadata": {
        "id": "hcAf8z5VTVKr"
      }
    },
    {
      "cell_type": "code",
      "source": [
        "a = np.array([[1, 2, 3, 4], [5, 6, 7, 8], [9, 10, 11, 12]])"
      ],
      "metadata": {
        "id": "sZnyCfoJv7h6"
      },
      "execution_count": null,
      "outputs": []
    },
    {
      "cell_type": "markdown",
      "source": [
        "Anda dapat menggunakan np.nonzero() untuk mencetak indeks elemen yang, misalnya, kurang dari 5:"
      ],
      "metadata": {
        "id": "5WPlKVrjTdKL"
      }
    },
    {
      "cell_type": "code",
      "source": [
        "b = np.nonzero(a < 5)\n",
        "print(b)"
      ],
      "metadata": {
        "colab": {
          "base_uri": "https://localhost:8080/"
        },
        "id": "XzREIuP4v_74",
        "outputId": "e1ee34f8-a714-47de-df17-965dd48b039e"
      },
      "execution_count": null,
      "outputs": [
        {
          "output_type": "stream",
          "name": "stdout",
          "text": [
            "(array([0, 0, 0, 0]), array([0, 1, 2, 3]))\n"
          ]
        }
      ]
    },
    {
      "cell_type": "markdown",
      "source": [
        "Jika Anda ingin membuat daftar koordinat tempat elemen berada, Anda dapat meng-zip array,\n",
        "mengulangi daftar koordinat, dan mencetaknya. Misalnya:"
      ],
      "metadata": {
        "id": "jdLfhbutTiaq"
      }
    },
    {
      "cell_type": "code",
      "source": [
        "daftar_koordinat_= daftar(zip(b[0], b[1]))\n",
        "untuk koordinat di list_of_koordinat:\n",
        "      print(coord)"
      ],
      "metadata": {
        "colab": {
          "base_uri": "https://localhost:8080/",
          "height": 141
        },
        "id": "h6WgcOoQwEaX",
        "outputId": "fd1af98a-6b7d-4703-fabf-bb3dcaef714e"
      },
      "execution_count": null,
      "outputs": [
        {
          "output_type": "error",
          "ename": "SyntaxError",
          "evalue": "invalid syntax (<ipython-input-93-ad0a3dce3f10>, line 2)",
          "traceback": [
            "\u001b[0;36m  File \u001b[0;32m\"<ipython-input-93-ad0a3dce3f10>\"\u001b[0;36m, line \u001b[0;32m2\u001b[0m\n\u001b[0;31m    untuk koordinat di list_of_koordinat:\u001b[0m\n\u001b[0m          ^\u001b[0m\n\u001b[0;31mSyntaxError\u001b[0m\u001b[0;31m:\u001b[0m invalid syntax\n"
          ]
        }
      ]
    },
    {
      "cell_type": "markdown",
      "source": [
        "Anda juga dapat menggunakan np.nonzero() untuk mencetak elemen dalam array yang kurang dari 5 dengan:"
      ],
      "metadata": {
        "id": "4jOqOPKFTnlj"
      }
    },
    {
      "cell_type": "code",
      "source": [
        "print(a[b])"
      ],
      "metadata": {
        "colab": {
          "base_uri": "https://localhost:8080/"
        },
        "id": "3FMzdnhwwRxQ",
        "outputId": "81979a75-879d-4972-d692-6ad0a6dc3b33"
      },
      "execution_count": null,
      "outputs": [
        {
          "output_type": "stream",
          "name": "stdout",
          "text": [
            "[1 2 3 4]\n"
          ]
        }
      ]
    },
    {
      "cell_type": "markdown",
      "source": [
        "Jika elemen yang Anda cari tidak ada dalam array, maka array indeks yang dikembalikan akan\n",
        "kosong. Misalnya:"
      ],
      "metadata": {
        "id": "NqX7-K38Trg3"
      }
    },
    {
      "cell_type": "code",
      "source": [
        "not_there = np.nonzero(a == 42)\n",
        ">>> print(not_there)"
      ],
      "metadata": {
        "colab": {
          "base_uri": "https://localhost:8080/"
        },
        "id": "pGECw3_2wWbN",
        "outputId": "bce52266-71db-48e7-a6b4-196899780186"
      },
      "execution_count": null,
      "outputs": [
        {
          "output_type": "stream",
          "name": "stdout",
          "text": [
            "(array([], dtype=int64), array([], dtype=int64))\n"
          ]
        }
      ]
    },
    {
      "cell_type": "markdown",
      "source": [
        "Bagian ini mencakup pemotongan dan pengindeksan, np.vstack(), np.hstack(), np.hsplit(), .view(),\n",
        "copy()\n",
        "\n",
        "Anda dapat dengan mudah membuat array baru dari bagian array yang sudah ada.\n",
        "Katakanlah Anda memiliki array ini:"
      ],
      "metadata": {
        "id": "LlubHgzvT0cK"
      }
    },
    {
      "cell_type": "code",
      "source": [
        "a = np.array([1, 2, 3, 4, 5, 6, 7, 8, 9, 10])"
      ],
      "metadata": {
        "id": "yl4Ks1FNwgZ_"
      },
      "execution_count": null,
      "outputs": []
    },
    {
      "cell_type": "markdown",
      "source": [
        "Anda dapat membuat array baru dari suatu bagian array kapan saja dengan menentukan di mana\n",
        "Anda ingin mengiris array Anda."
      ],
      "metadata": {
        "id": "T4ag98j8UBwC"
      }
    },
    {
      "cell_type": "code",
      "source": [
        "arr1 = a[3:8]\n",
        "arr1"
      ],
      "metadata": {
        "colab": {
          "base_uri": "https://localhost:8080/"
        },
        "id": "FHH3rZKqwoTC",
        "outputId": "17703e30-6bf9-4357-bd52-a136c81bca75"
      },
      "execution_count": null,
      "outputs": [
        {
          "output_type": "execute_result",
          "data": {
            "text/plain": [
              "array([4, 5, 6, 7, 8])"
            ]
          },
          "metadata": {},
          "execution_count": 97
        }
      ]
    },
    {
      "cell_type": "markdown",
      "source": [
        "Anda juga dapat menumpuk dua array yang ada, baik secara vertikal maupun horizontal. Katakanlah Anda memiliki\n",
        "dua array, a1 dan a2:\n",
        "Pelajari lebih lanjut tentang pengindeksan dan pemotongan di sini dan di sini.\n",
        "Jika Anda ingin membuat daftar koordinat tempat elemen berada, Anda dapat meng-zip array,\n",
        "mengulangi daftar koordinat, dan mencetaknya. Misalnya:\n",
        "D"
      ],
      "metadata": {
        "id": "1dj5iqY5UHuq"
      }
    },
    {
      "cell_type": "code",
      "source": [
        "a1 = np.array([[1, 1],\n",
        "               [2, 2]])\n",
        "a2 = np.array([[3, 3],\n",
        "               [4, 4]])\n",
        "\n",
        "np.vstack((a1, a2))"
      ],
      "metadata": {
        "colab": {
          "base_uri": "https://localhost:8080/"
        },
        "id": "ExdAoQdWwutD",
        "outputId": "0874d1ff-5bc8-4aa8-d53f-f682f564afe2"
      },
      "execution_count": null,
      "outputs": [
        {
          "output_type": "execute_result",
          "data": {
            "text/plain": [
              "array([[1, 1],\n",
              "       [2, 2],\n",
              "       [3, 3],\n",
              "       [4, 4]])"
            ]
          },
          "metadata": {},
          "execution_count": 98
        }
      ]
    },
    {
      "cell_type": "markdown",
      "source": [
        "Anda dapat menumpuknya secara vertikal dengan vstack:"
      ],
      "metadata": {
        "id": "U_F5Pb0DUL4r"
      }
    },
    {
      "cell_type": "code",
      "source": [
        "np.hstack((a1, a2))"
      ],
      "metadata": {
        "colab": {
          "base_uri": "https://localhost:8080/"
        },
        "id": "OcagmS0zxUcY",
        "outputId": "f2c47355-9d4c-4c67-cfb7-49fc98fee83b"
      },
      "execution_count": null,
      "outputs": [
        {
          "output_type": "execute_result",
          "data": {
            "text/plain": [
              "array([[1, 1, 3, 3],\n",
              "       [2, 2, 4, 4]])"
            ]
          },
          "metadata": {},
          "execution_count": 99
        }
      ]
    },
    {
      "cell_type": "markdown",
      "source": [
        "Atau susun secara horizontal dengan hstack:\n",
        "\n",
        "Anda dapat membagi array menjadi beberapa array yang lebih kecil menggunakan hsplit. Anda\n",
        "dapat menentukan jumlah array berbentuk sama yang akan dikembalikan atau kolom setelah pembagian\n",
        "terjadi."
      ],
      "metadata": {
        "id": "sSMDFTlTUPqn"
      }
    },
    {
      "cell_type": "code",
      "source": [
        "x = np.arange(1, 25).reshape(2, 12)\n",
        "x"
      ],
      "metadata": {
        "colab": {
          "base_uri": "https://localhost:8080/"
        },
        "id": "vkzPe1fXxaeg",
        "outputId": "5952bc20-4095-4a52-88a6-44eab7395248"
      },
      "execution_count": null,
      "outputs": [
        {
          "output_type": "execute_result",
          "data": {
            "text/plain": [
              "array([[ 1,  2,  3,  4,  5,  6,  7,  8,  9, 10, 11, 12],\n",
              "       [13, 14, 15, 16, 17, 18, 19, 20, 21, 22, 23, 24]])"
            ]
          },
          "metadata": {},
          "execution_count": 100
        }
      ]
    },
    {
      "cell_type": "markdown",
      "source": [
        "Jika Anda ingin membagi array ini menjadi tiga array yang bentuknya sama, jalankan:"
      ],
      "metadata": {
        "id": "0FNFxRCXUbdG"
      }
    },
    {
      "cell_type": "code",
      "source": [
        "np.hsplit(x, 3)"
      ],
      "metadata": {
        "colab": {
          "base_uri": "https://localhost:8080/"
        },
        "id": "srG4rxZ8xhIn",
        "outputId": "f729a2b2-4eef-4db4-9d97-1c8f147ca3cd"
      },
      "execution_count": null,
      "outputs": [
        {
          "output_type": "execute_result",
          "data": {
            "text/plain": [
              "[array([[ 1,  2,  3,  4],\n",
              "        [13, 14, 15, 16]]),\n",
              " array([[ 5,  6,  7,  8],\n",
              "        [17, 18, 19, 20]]),\n",
              " array([[ 9, 10, 11, 12],\n",
              "        [21, 22, 23, 24]])]"
            ]
          },
          "metadata": {},
          "execution_count": 101
        }
      ]
    },
    {
      "cell_type": "markdown",
      "source": [
        "Jika Anda ingin membagi array setelah kolom ketiga dan keempat, jalankan:"
      ],
      "metadata": {
        "id": "16dqHumxUjfg"
      }
    },
    {
      "cell_type": "code",
      "source": [
        "np.hsplit(x, (3, 4))"
      ],
      "metadata": {
        "colab": {
          "base_uri": "https://localhost:8080/"
        },
        "id": "RpY-a9_OxkUw",
        "outputId": "d11bfd33-be8f-4bb4-be2d-c54b73aafed4"
      },
      "execution_count": null,
      "outputs": [
        {
          "output_type": "execute_result",
          "data": {
            "text/plain": [
              "[array([[ 1,  2,  3],\n",
              "        [13, 14, 15]]),\n",
              " array([[ 4],\n",
              "        [16]]),\n",
              " array([[ 5,  6,  7,  8,  9, 10, 11, 12],\n",
              "        [17, 18, 19, 20, 21, 22, 23, 24]])]"
            ]
          },
          "metadata": {},
          "execution_count": 102
        }
      ]
    },
    {
      "cell_type": "markdown",
      "source": [
        "Tampilan adalah konsep NumPy yang penting! Fungsi NumPy, serta operasi seperti pengindeksan dan\n",
        "pemotongan, akan mengembalikan tampilan bila memungkinkan. Ini menghemat memori dan lebih\n",
        "cepat (tidak perlu membuat salinan data). Namun penting untuk menyadari hal ini - mengubah data\n",
        "dalam tampilan juga mengubah array asli!\n",
        "\n",
        "Katakanlah Anda membuat array ini:"
      ],
      "metadata": {
        "id": "ng0ar38PUpZW"
      }
    },
    {
      "cell_type": "code",
      "source": [
        "a = np.array([[1, 2, 3, 4], [5, 6, 7, 8], [9, 10, 11, 12]])"
      ],
      "metadata": {
        "id": "N3tdGvGYxm5T"
      },
      "execution_count": null,
      "outputs": []
    },
    {
      "cell_type": "markdown",
      "source": [
        "Sekarang kita membuat array b1 dengan mengiris a dan memodifikasi elemen pertama b1. Ini juga akan mengubah\n",
        "elemen terkait di a !"
      ],
      "metadata": {
        "id": "xL_qqZAWUxKH"
      }
    },
    {
      "cell_type": "code",
      "source": [
        "b1 = a[0,:]\n",
        "b1\n",
        "b1[0] = 99\n",
        "b1\n",
        "a"
      ],
      "metadata": {
        "colab": {
          "base_uri": "https://localhost:8080/"
        },
        "id": "1U6prTUsxq8t",
        "outputId": "5e52dcb3-ae70-4066-a7d7-a3a075d50b79"
      },
      "execution_count": null,
      "outputs": [
        {
          "output_type": "execute_result",
          "data": {
            "text/plain": [
              "array([[99,  2,  3,  4],\n",
              "       [ 5,  6,  7,  8],\n",
              "       [ 9, 10, 11, 12]])"
            ]
          },
          "metadata": {},
          "execution_count": 104
        }
      ]
    },
    {
      "cell_type": "markdown",
      "source": [
        "Menggunakan metode copy akan membuat salinan lengkap dari array dan datanya ( salinan dalam). Untuk\n",
        "menggunakan ini pada array Anda, Anda bisa menjalankan:"
      ],
      "metadata": {
        "id": "y31vBpFrU01e"
      }
    },
    {
      "cell_type": "code",
      "source": [
        "b2 = a.copy()"
      ],
      "metadata": {
        "id": "n9BQaCDxx7_U"
      },
      "execution_count": null,
      "outputs": []
    },
    {
      "cell_type": "code",
      "source": [
        "data = np.array([1, 2])\n",
        "ones = np.ones(2, dtype = int)\n",
        "data + satuan"
      ],
      "metadata": {
        "colab": {
          "base_uri": "https://localhost:8080/",
          "height": 245
        },
        "id": "m8qXRu_Bx_Yu",
        "outputId": "f3f4b1e0-7b21-4ad4-fab0-0ed141c011f8"
      },
      "execution_count": null,
      "outputs": [
        {
          "output_type": "error",
          "ename": "NameError",
          "evalue": "name 'satuan' is not defined",
          "traceback": [
            "\u001b[0;31m---------------------------------------------------------------------------\u001b[0m",
            "\u001b[0;31mNameError\u001b[0m                                 Traceback (most recent call last)",
            "\u001b[0;32m<ipython-input-109-07069b7624f8>\u001b[0m in \u001b[0;36m<cell line: 3>\u001b[0;34m()\u001b[0m\n\u001b[1;32m      1\u001b[0m \u001b[0mdata\u001b[0m \u001b[0;34m=\u001b[0m \u001b[0mnp\u001b[0m\u001b[0;34m.\u001b[0m\u001b[0marray\u001b[0m\u001b[0;34m(\u001b[0m\u001b[0;34m[\u001b[0m\u001b[0;36m1\u001b[0m\u001b[0;34m,\u001b[0m \u001b[0;36m2\u001b[0m\u001b[0;34m]\u001b[0m\u001b[0;34m)\u001b[0m\u001b[0;34m\u001b[0m\u001b[0;34m\u001b[0m\u001b[0m\n\u001b[1;32m      2\u001b[0m \u001b[0mones\u001b[0m \u001b[0;34m=\u001b[0m \u001b[0mnp\u001b[0m\u001b[0;34m.\u001b[0m\u001b[0mones\u001b[0m\u001b[0;34m(\u001b[0m\u001b[0;36m2\u001b[0m\u001b[0;34m,\u001b[0m \u001b[0mdtype\u001b[0m \u001b[0;34m=\u001b[0m \u001b[0mint\u001b[0m\u001b[0;34m)\u001b[0m\u001b[0;34m\u001b[0m\u001b[0;34m\u001b[0m\u001b[0m\n\u001b[0;32m----> 3\u001b[0;31m \u001b[0mdata\u001b[0m \u001b[0;34m+\u001b[0m \u001b[0msatuan\u001b[0m\u001b[0;34m\u001b[0m\u001b[0;34m\u001b[0m\u001b[0m\n\u001b[0m",
            "\u001b[0;31mNameError\u001b[0m: name 'satuan' is not defined"
          ]
        }
      ]
    },
    {
      "cell_type": "markdown",
      "source": [
        "Pengoperasian dasar sederhana dengan NumPy. Jika Anda ingin mencari jumlah elemen dalam array, Anda akan\n",
        "menggunakan sum(). Ini berfungsi untuk array 1D, array 2D, dan array dalam dimensi yang lebih tinggi"
      ],
      "metadata": {
        "id": "x98DylXmVGaz"
      }
    },
    {
      "cell_type": "code",
      "source": [
        "data - array satuan\n",
        "data * data\n",
        "data / data"
      ],
      "metadata": {
        "colab": {
          "base_uri": "https://localhost:8080/",
          "height": 124
        },
        "id": "MCpXJMnAyEWk",
        "outputId": "082da5a3-7818-4633-aa62-b4239ea17c2d"
      },
      "execution_count": null,
      "outputs": [
        {
          "output_type": "error",
          "ename": "SyntaxError",
          "evalue": "invalid syntax (<ipython-input-113-36473832067f>, line 1)",
          "traceback": [
            "\u001b[0;36m  File \u001b[0;32m\"<ipython-input-113-36473832067f>\"\u001b[0;36m, line \u001b[0;32m1\u001b[0m\n\u001b[0;31m    data - array satuan\u001b[0m\n\u001b[0m                 ^\u001b[0m\n\u001b[0;31mSyntaxError\u001b[0m\u001b[0;31m:\u001b[0m invalid syntax\n"
          ]
        }
      ]
    },
    {
      "cell_type": "markdown",
      "source": [
        "Untuk menambahkan baris atau kolom dalam array 2D, Anda harus menentukan sumbunya.\n",
        "\n",
        "Jika Anda memulai dengan array ini:"
      ],
      "metadata": {
        "id": "Rlhauaw8VKBJ"
      }
    },
    {
      "cell_type": "code",
      "source": [
        "a = np.array([1, 2, 3, 4])\n",
        "a.sum()"
      ],
      "metadata": {
        "colab": {
          "base_uri": "https://localhost:8080/"
        },
        "id": "G-v9lCa-yJDK",
        "outputId": "1c3881e0-a648-49de-edce-e21af244984f"
      },
      "execution_count": null,
      "outputs": [
        {
          "output_type": "execute_result",
          "data": {
            "text/plain": [
              "10"
            ]
          },
          "metadata": {},
          "execution_count": 114
        }
      ]
    },
    {
      "cell_type": "markdown",
      "source": [
        "Anda dapat menjumlahkan sumbu baris dengan:"
      ],
      "metadata": {
        "id": "3q5y0XZ5VScO"
      }
    },
    {
      "cell_type": "code",
      "source": [
        "b = np.array([[1, 1], [2, 2]])"
      ],
      "metadata": {
        "id": "Srcj7wt0yM2N"
      },
      "execution_count": null,
      "outputs": []
    },
    {
      "cell_type": "code",
      "source": [
        "b.sum(axis=0)"
      ],
      "metadata": {
        "colab": {
          "base_uri": "https://localhost:8080/"
        },
        "id": "kNnhhffxyPkU",
        "outputId": "21ca091c-a6e4-4afb-8cba-b589feef5591"
      },
      "execution_count": null,
      "outputs": [
        {
          "output_type": "execute_result",
          "data": {
            "text/plain": [
              "array([3, 3])"
            ]
          },
          "metadata": {},
          "execution_count": 116
        }
      ]
    },
    {
      "cell_type": "markdown",
      "source": [
        "Anda dapat menjumlahkan sumbu kolom dengan:"
      ],
      "metadata": {
        "id": "tS7vgs8RVZIN"
      }
    },
    {
      "cell_type": "code",
      "source": [
        "b.sum(axis=1)"
      ],
      "metadata": {
        "colab": {
          "base_uri": "https://localhost:8080/"
        },
        "id": "wHkGF6LmyS_m",
        "outputId": "2ceca0a8-4060-4f7b-d318-63901e37d8df"
      },
      "execution_count": null,
      "outputs": [
        {
          "output_type": "execute_result",
          "data": {
            "text/plain": [
              "array([2, 4])"
            ]
          },
          "metadata": {},
          "execution_count": 117
        }
      ]
    },
    {
      "cell_type": "markdown",
      "source": [
        "Penyiaran\n",
        "\n",
        "Ada kalanya Anda mungkin ingin melakukan operasi antara array dan satu bilangan (disebut juga operasi antara vektor\n",
        "dan skalar) atau antara array dengan dua ukuran berbeda. Misalnya, array Anda (kita akan sebut saja \"data\")\n",
        "mungkin berisi informasi tentang jarak dalam mil tetapi Anda ingin mengonversi informasi tersebut menjadi kilometer.\n",
        "Anda dapat melakukan operasi ini dengan:"
      ],
      "metadata": {
        "id": "Jy3QOZ_FVde_"
      }
    },
    {
      "cell_type": "code",
      "source": [
        "data = np.array([1.0, 2.0])\n",
        "data * 1.6"
      ],
      "metadata": {
        "colab": {
          "base_uri": "https://localhost:8080/"
        },
        "id": "67981OGSyVph",
        "outputId": "bfa75812-a045-4b1d-bfa9-f987f73d066c"
      },
      "execution_count": null,
      "outputs": [
        {
          "output_type": "execute_result",
          "data": {
            "text/plain": [
              "array([1.6, 3.2])"
            ]
          },
          "metadata": {},
          "execution_count": 118
        }
      ]
    },
    {
      "cell_type": "markdown",
      "source": [
        "NumPy memahami bahwa perkalian harus terjadi pada setiap sel. Konsep itu disebut penyiaran. Penyiaran adalah\n",
        "mekanisme yang memungkinkan NumPy melakukan operasi pada array dengan bentuk berbeda. Dimensi array Anda\n",
        "harus kompatibel, misalnya, ketika dimensi kedua array sama atau ketika salah satunya adalah 1. Jika dimensinya sama\n",
        "tidak kompatibel, Anda akan mendapatkan ValueError."
      ],
      "metadata": {
        "id": "ZuNvUzxiVlmo"
      }
    },
    {
      "cell_type": "code",
      "source": [
        "data.max()\n",
        "data.min()\n",
        "data.sum()"
      ],
      "metadata": {
        "colab": {
          "base_uri": "https://localhost:8080/"
        },
        "id": "q6ujkA04yYu6",
        "outputId": "b8e28787-53c2-49be-897b-35c257586ad6"
      },
      "execution_count": null,
      "outputs": [
        {
          "output_type": "execute_result",
          "data": {
            "text/plain": [
              "3.0"
            ]
          },
          "metadata": {},
          "execution_count": 119
        }
      ]
    },
    {
      "cell_type": "markdown",
      "source": [
        "Mari kita mulai dengan array ini, yang disebut “a”"
      ],
      "metadata": {
        "id": "qmZmMjGcVul2"
      }
    },
    {
      "cell_type": "code",
      "source": [
        "a = np.array([[0.45053314, 0.17296777, 0.34376245, 0.5510652],\n",
        "[0.54627315, 0.05093587, 0.40067661, 0.55645993],\n",
        "[0.12697628, 0.82485143, 0.26590556, 0.56917101]])"
      ],
      "metadata": {
        "id": "b5ESQEybydZT"
      },
      "execution_count": null,
      "outputs": []
    },
    {
      "cell_type": "markdown",
      "source": [
        "Sangat umum untuk ingin menggabungkan sepanjang baris atau kolom. Secara default, setiap fungsi\n",
        "agregasi NumPy akan mengembalikan agregat seluruh array. Untuk menemukan jumlah atau jumlah\n",
        "minimum elemen dalam array Anda, jalankan:"
      ],
      "metadata": {
        "id": "x5v8A28aVyt3"
      }
    },
    {
      "cell_type": "code",
      "source": [
        "a.sum()"
      ],
      "metadata": {
        "colab": {
          "base_uri": "https://localhost:8080/"
        },
        "id": "6w1RjHr6yj0A",
        "outputId": "872c16c3-f82c-408e-879d-443c58fd337f"
      },
      "execution_count": null,
      "outputs": [
        {
          "output_type": "execute_result",
          "data": {
            "text/plain": [
              "4.8595784"
            ]
          },
          "metadata": {},
          "execution_count": 121
        }
      ]
    },
    {
      "cell_type": "markdown",
      "source": [
        "Atau:"
      ],
      "metadata": {
        "id": "R7w_GFbiV2fc"
      }
    },
    {
      "cell_type": "code",
      "source": [
        "a.min()"
      ],
      "metadata": {
        "colab": {
          "base_uri": "https://localhost:8080/"
        },
        "id": "wY5elu6jym7X",
        "outputId": "9f007b32-cc97-4bd1-971e-3de94e417edd"
      },
      "execution_count": null,
      "outputs": [
        {
          "output_type": "execute_result",
          "data": {
            "text/plain": [
              "0.05093587"
            ]
          },
          "metadata": {},
          "execution_count": 122
        }
      ]
    },
    {
      "cell_type": "markdown",
      "source": [
        "Anda dapat menentukan pada sumbu mana Anda ingin fungsi agregasi dihitung. Misalnya, Anda\n",
        "dapat menemukan nilai minimum dalam setiap kolom dengan menentukan sumbu=0."
      ],
      "metadata": {
        "id": "1HchOKfyWHL2"
      }
    },
    {
      "cell_type": "code",
      "source": [
        "a.min(sumbu=0)"
      ],
      "metadata": {
        "colab": {
          "base_uri": "https://localhost:8080/",
          "height": 211
        },
        "id": "TS9PqgRDypQT",
        "outputId": "727e8ac6-09c5-44e5-8b98-9cf2cab1c0e2"
      },
      "execution_count": null,
      "outputs": [
        {
          "output_type": "error",
          "ename": "TypeError",
          "evalue": "_amin() got an unexpected keyword argument 'sumbu'",
          "traceback": [
            "\u001b[0;31m---------------------------------------------------------------------------\u001b[0m",
            "\u001b[0;31mTypeError\u001b[0m                                 Traceback (most recent call last)",
            "\u001b[0;32m<ipython-input-123-0347e05a6d6f>\u001b[0m in \u001b[0;36m<cell line: 1>\u001b[0;34m()\u001b[0m\n\u001b[0;32m----> 1\u001b[0;31m \u001b[0ma\u001b[0m\u001b[0;34m.\u001b[0m\u001b[0mmin\u001b[0m\u001b[0;34m(\u001b[0m\u001b[0msumbu\u001b[0m\u001b[0;34m=\u001b[0m\u001b[0;36m0\u001b[0m\u001b[0;34m)\u001b[0m\u001b[0;34m\u001b[0m\u001b[0;34m\u001b[0m\u001b[0m\n\u001b[0m",
            "\u001b[0;31mTypeError\u001b[0m: _amin() got an unexpected keyword argument 'sumbu'"
          ]
        }
      ]
    },
    {
      "cell_type": "markdown",
      "source": [
        "\n",
        "\n",
        "Keempat nilai yang tercantum di atas sesuai dengan jumlah kolom dalam array Anda. Dengan array empat\n",
        "kolom, Anda akan mendapatkan empat nilai sebagai hasilnya."
      ],
      "metadata": {
        "id": "kH7579EXV7gJ"
      }
    },
    {
      "cell_type": "code",
      "source": [
        "data = np.array([[1, 2], [3, 4], [5, 6]])\n",
        "data"
      ],
      "metadata": {
        "colab": {
          "base_uri": "https://localhost:8080/"
        },
        "id": "7h9w5MnhyrTw",
        "outputId": "11b44cb6-74f8-4ac8-a82c-65327c8438ce"
      },
      "execution_count": null,
      "outputs": [
        {
          "output_type": "execute_result",
          "data": {
            "text/plain": [
              "array([[1, 2],\n",
              "       [3, 4],\n",
              "       [5, 6]])"
            ]
          },
          "metadata": {},
          "execution_count": 124
        }
      ]
    },
    {
      "cell_type": "markdown",
      "source": [
        "Operasi pengindeksan dan pemotongan berguna saat Anda memanipulasi matriks:"
      ],
      "metadata": {
        "id": "XxRzE2nZWNBz"
      }
    },
    {
      "cell_type": "code",
      "source": [
        "data[0, 1]\n",
        "data [1:3]\n",
        "data [0:2, 0]"
      ],
      "metadata": {
        "colab": {
          "base_uri": "https://localhost:8080/"
        },
        "id": "sZu5ZZ_JyugY",
        "outputId": "ffa8ae8a-08ee-4f58-a16c-a0ca18c87875"
      },
      "execution_count": null,
      "outputs": [
        {
          "output_type": "execute_result",
          "data": {
            "text/plain": [
              "array([1, 3])"
            ]
          },
          "metadata": {},
          "execution_count": 125
        }
      ]
    },
    {
      "cell_type": "markdown",
      "source": [
        "Anda dapat mengagregasi matriks dengan cara yang sama seperti Anda mengagregasi vektor:"
      ],
      "metadata": {
        "id": "8tkfR8DAWQe6"
      }
    },
    {
      "cell_type": "code",
      "source": [
        "data.max()\n",
        "data.min()\n",
        "data.sum()"
      ],
      "metadata": {
        "colab": {
          "base_uri": "https://localhost:8080/"
        },
        "id": "fSJuXg1SyyjJ",
        "outputId": "24fb8b2e-c172-4f8d-bcf8-d86eb95a6631"
      },
      "execution_count": null,
      "outputs": [
        {
          "output_type": "execute_result",
          "data": {
            "text/plain": [
              "21"
            ]
          },
          "metadata": {},
          "execution_count": 126
        }
      ]
    },
    {
      "cell_type": "markdown",
      "source": [
        "Anda dapat menggabungkan semua nilai dalam matriks dan Anda dapat menggabungkannya di seluruh kolom atau\n",
        "baris menggunakan parameter sumbu . Untuk mengilustrasikan hal ini, mari kita lihat kumpulan data yang sedikit dimodifikasi:"
      ],
      "metadata": {
        "id": "ODiRDCgjWXov"
      }
    },
    {
      "cell_type": "code",
      "source": [
        "data = np.array([[1, 2], [5, 3], [4, 6]])\n",
        "data\n",
        "data.max(axis=0)\n",
        "data.max(axis=1)"
      ],
      "metadata": {
        "colab": {
          "base_uri": "https://localhost:8080/"
        },
        "id": "WD5Uyc3Hy2pt",
        "outputId": "8389bb92-7c78-43df-b202-4ed028ca3c98"
      },
      "execution_count": null,
      "outputs": [
        {
          "output_type": "execute_result",
          "data": {
            "text/plain": [
              "array([2, 5, 6])"
            ]
          },
          "metadata": {},
          "execution_count": 127
        }
      ]
    },
    {
      "cell_type": "markdown",
      "source": [
        "Setelah Anda membuat matriks, Anda dapat menjumlahkan dan mengalikannya menggunakan operator\n",
        "aritmatika jika Anda memiliki dua matriks yangberukuran sama.\n",
        "\n",
        "Anda dapat melakukan operasi aritmatika ini pada matriks dengan ukuran berbeda, tetapi hanya jika satu matriks\n",
        "hanya memiliki satu kolom atau satu baris. Dalam hal ini, NumPy akan menggunakan aturan siarannya untuk\n",
        "operasi tersebut."
      ],
      "metadata": {
        "id": "cOdwipIjWgXE"
      }
    },
    {
      "cell_type": "code",
      "source": [
        "data = np.array([[1, 2], [3, 4]])\n",
        "ones = np.array([[1, 1], [1, 1]])\n",
        "data + satu"
      ],
      "metadata": {
        "colab": {
          "base_uri": "https://localhost:8080/",
          "height": 280
        },
        "id": "CbjGj0zSy-zf",
        "outputId": "2632346e-6551-4647-be73-03d2bc3550d3"
      },
      "execution_count": null,
      "outputs": [
        {
          "output_type": "error",
          "ename": "NameError",
          "evalue": "name 'satuan' is not defined",
          "traceback": [
            "\u001b[0;31m---------------------------------------------------------------------------\u001b[0m",
            "\u001b[0;31mNameError\u001b[0m                                 Traceback (most recent call last)",
            "\u001b[0;32m<ipython-input-129-aecd35150cd1>\u001b[0m in \u001b[0;36m<cell line: 3>\u001b[0;34m()\u001b[0m\n\u001b[1;32m      1\u001b[0m \u001b[0mdata\u001b[0m \u001b[0;34m=\u001b[0m \u001b[0mnp\u001b[0m\u001b[0;34m.\u001b[0m\u001b[0marray\u001b[0m\u001b[0;34m(\u001b[0m\u001b[0;34m[\u001b[0m\u001b[0;34m[\u001b[0m\u001b[0;36m1\u001b[0m\u001b[0;34m,\u001b[0m \u001b[0;36m2\u001b[0m\u001b[0;34m]\u001b[0m\u001b[0;34m,\u001b[0m \u001b[0;34m[\u001b[0m\u001b[0;36m3\u001b[0m\u001b[0;34m,\u001b[0m \u001b[0;36m4\u001b[0m\u001b[0;34m]\u001b[0m\u001b[0;34m]\u001b[0m\u001b[0;34m)\u001b[0m\u001b[0;34m\u001b[0m\u001b[0;34m\u001b[0m\u001b[0m\n\u001b[1;32m      2\u001b[0m \u001b[0mones\u001b[0m \u001b[0;34m=\u001b[0m \u001b[0mnp\u001b[0m\u001b[0;34m.\u001b[0m\u001b[0marray\u001b[0m\u001b[0;34m(\u001b[0m\u001b[0;34m[\u001b[0m\u001b[0;34m[\u001b[0m\u001b[0;36m1\u001b[0m\u001b[0;34m,\u001b[0m \u001b[0;36m1\u001b[0m\u001b[0;34m]\u001b[0m\u001b[0;34m,\u001b[0m \u001b[0;34m[\u001b[0m\u001b[0;36m1\u001b[0m\u001b[0;34m,\u001b[0m \u001b[0;36m1\u001b[0m\u001b[0;34m]\u001b[0m\u001b[0;34m]\u001b[0m\u001b[0;34m)\u001b[0m\u001b[0;34m\u001b[0m\u001b[0;34m\u001b[0m\u001b[0m\n\u001b[0;32m----> 3\u001b[0;31m \u001b[0mdata\u001b[0m \u001b[0;34m+\u001b[0m \u001b[0msatuan\u001b[0m\u001b[0;34m\u001b[0m\u001b[0;34m\u001b[0m\u001b[0m\n\u001b[0m",
            "\u001b[0;31mNameError\u001b[0m: name 'satuan' is not defined"
          ]
        }
      ]
    },
    {
      "cell_type": "code",
      "source": [
        "data = np.array([[1, 2], [3, 4], [5, 6]])\n",
        "ones_row = np.array([[1, 1]])\n",
        "data + larik satu_baris"
      ],
      "metadata": {
        "id": "T2Wso4Vd1Vh6"
      },
      "execution_count": null,
      "outputs": []
    },
    {
      "cell_type": "markdown",
      "source": [
        "Perlu diketahui bahwa saat NumPy mencetak array berdimensi N, sumbu terakhir dilingkarkan pada sumbu tercepat\n",
        "sedangkan sumbu pertama adalah sumbu paling lambat. Contohnya:"
      ],
      "metadata": {
        "id": "v7UtCVHLWq-J"
      }
    },
    {
      "cell_type": "code",
      "source": [
        "np.ones((4, 3, 2))"
      ],
      "metadata": {
        "colab": {
          "base_uri": "https://localhost:8080/"
        },
        "id": "Y09mVgxo1akR",
        "outputId": "0163040e-978b-4731-9284-67cbd638de7a"
      },
      "execution_count": null,
      "outputs": [
        {
          "output_type": "execute_result",
          "data": {
            "text/plain": [
              "array([[[1., 1.],\n",
              "        [1., 1.],\n",
              "        [1., 1.]],\n",
              "\n",
              "       [[1., 1.],\n",
              "        [1., 1.],\n",
              "        [1., 1.]],\n",
              "\n",
              "       [[1., 1.],\n",
              "        [1., 1.],\n",
              "        [1., 1.]],\n",
              "\n",
              "       [[1., 1.],\n",
              "        [1., 1.],\n",
              "        [1., 1.]]])"
            ]
          },
          "metadata": {},
          "execution_count": 135
        }
      ]
    },
    {
      "cell_type": "markdown",
      "source": [
        "Sering kali kita ingin NumPy menginisialisasi nilai array. NumPy menawarkan fungsi seperti satu() dan nol(), dan kelas\n",
        "random.Generator untuk acak.\n",
        "\n",
        "pembuatan nomor untuk itu. Yang perlu Anda lakukan hanyalah memasukkan jumlah elemen yang ingin Anda hasilkan:"
      ],
      "metadata": {
        "id": "SNPI34f3WxJ_"
      }
    },
    {
      "cell_type": "code",
      "source": [
        "np.ones(3)\n",
        "np.zeros(3)\n",
        "rng = np.random.default_rng()\n",
        "rng.random(3)"
      ],
      "metadata": {
        "colab": {
          "base_uri": "https://localhost:8080/"
        },
        "id": "6pYrB57m1jG6",
        "outputId": "8b73e741-8992-4324-8bcc-737e7feb9910"
      },
      "execution_count": null,
      "outputs": [
        {
          "output_type": "execute_result",
          "data": {
            "text/plain": [
              "array([0.46629348, 0.08475388, 0.80835093])"
            ]
          },
          "metadata": {},
          "execution_count": 136
        }
      ]
    },
    {
      "cell_type": "markdown",
      "source": [
        "Anda juga dapat menggunakan one(), zeros(), dan random() untuk membuat array 2D jika Anda memberinya tupel\n",
        "yang menjelaskan dimensi matriks:"
      ],
      "metadata": {
        "id": "UfuRkC0zW8nR"
      }
    },
    {
      "cell_type": "code",
      "source": [
        "np.ones((3, 2))\n",
        "np.zeros((3, 2))\n",
        "rng.random((3, 2))"
      ],
      "metadata": {
        "colab": {
          "base_uri": "https://localhost:8080/"
        },
        "id": "GOm0qfb41pqH",
        "outputId": "b048cd3f-383b-4c9c-a2a7-579b962030bf"
      },
      "execution_count": null,
      "outputs": [
        {
          "output_type": "execute_result",
          "data": {
            "text/plain": [
              "array([[0.15887415, 0.08001325],\n",
              "       [0.54897427, 0.25093132],\n",
              "       [0.21344632, 0.57617195]])"
            ]
          },
          "metadata": {},
          "execution_count": 137
        }
      ]
    },
    {
      "cell_type": "markdown",
      "source": [
        "Dengan Generator.integers, Anda dapat menghasilkan bilangan bulat acak dari rendah (ingat bahwa ini inklusif\n",
        "dengan NumPy) hingga tinggi (eksklusif). Anda dapat mengatur endpoint=True untuk mencapai nilai tertinggi.\n",
        "\n",
        "Anda dapat menghasilkan array bilangan bulat acak berukuran 2 x 4 antara 0 dan 4 dengan:"
      ],
      "metadata": {
        "id": "VSXe4FYjXHsn"
      }
    },
    {
      "cell_type": "code",
      "source": [
        "rng.integers(5, size=(2, 4))"
      ],
      "metadata": {
        "colab": {
          "base_uri": "https://localhost:8080/"
        },
        "id": "JOgkWit01x2Y",
        "outputId": "8f033167-b529-40a0-b7be-175c65d34099"
      },
      "execution_count": null,
      "outputs": [
        {
          "output_type": "execute_result",
          "data": {
            "text/plain": [
              "array([[3, 2, 0, 4],\n",
              "       [1, 2, 2, 3]])"
            ]
          },
          "metadata": {},
          "execution_count": 139
        }
      ]
    },
    {
      "cell_type": "markdown",
      "source": [
        "Misalnya, jika Anda memulai dengan array ini:"
      ],
      "metadata": {
        "id": "GOojLawxXVJ7"
      }
    },
    {
      "cell_type": "code",
      "source": [
        "a = np.array([11, 11, 12, 13, 14, 14, 15, 16, 17, 12, 13, 11, 14, 18,\n",
        "19, 20])"
      ],
      "metadata": {
        "id": "WJp2fuKv1ynY"
      },
      "execution_count": null,
      "outputs": []
    },
    {
      "cell_type": "markdown",
      "source": [
        "Anda dapat menggunakan np.unique untuk mencetak nilai unik dalam array Anda:"
      ],
      "metadata": {
        "id": "8FIjj89WXY4_"
      }
    },
    {
      "cell_type": "code",
      "source": [
        "nilai_unik = np.unique(a)\n",
        "print(nilai_unik)"
      ],
      "metadata": {
        "colab": {
          "base_uri": "https://localhost:8080/"
        },
        "id": "c9_yGorl11hQ",
        "outputId": "a190b801-8e61-466b-d6a4-b8d4afb5ff17"
      },
      "execution_count": null,
      "outputs": [
        {
          "output_type": "stream",
          "name": "stdout",
          "text": [
            "[11 12 13 14 15 16 17 18 19 20]\n"
          ]
        }
      ]
    },
    {
      "cell_type": "markdown",
      "source": [
        "Ini juga berfungsi dengan array 2D! Jika Anda memulai dengan array ini:"
      ],
      "metadata": {
        "id": "Brer-Qs0XcSF"
      }
    },
    {
      "cell_type": "code",
      "source": [
        "nilai_unik, daftar_indeks = np.unique(a, return_indeks = True)\n",
        "print(indices_list)"
      ],
      "metadata": {
        "colab": {
          "base_uri": "https://localhost:8080/",
          "height": 245
        },
        "id": "5B_GC0NM16SN",
        "outputId": "302efbee-b116-48ba-9f88-541e289bcd71"
      },
      "execution_count": null,
      "outputs": [
        {
          "output_type": "error",
          "ename": "TypeError",
          "evalue": "unique() got an unexpected keyword argument 'return_indeks'",
          "traceback": [
            "\u001b[0;31m---------------------------------------------------------------------------\u001b[0m",
            "\u001b[0;31mTypeError\u001b[0m                                 Traceback (most recent call last)",
            "\u001b[0;32m<ipython-input-143-6ff3716ba6c3>\u001b[0m in \u001b[0;36m<cell line: 1>\u001b[0;34m()\u001b[0m\n\u001b[0;32m----> 1\u001b[0;31m \u001b[0mnilai_unik\u001b[0m\u001b[0;34m,\u001b[0m \u001b[0mdaftar_indeks\u001b[0m \u001b[0;34m=\u001b[0m \u001b[0mnp\u001b[0m\u001b[0;34m.\u001b[0m\u001b[0munique\u001b[0m\u001b[0;34m(\u001b[0m\u001b[0ma\u001b[0m\u001b[0;34m,\u001b[0m \u001b[0mreturn_indeks\u001b[0m \u001b[0;34m=\u001b[0m \u001b[0;32mTrue\u001b[0m\u001b[0;34m)\u001b[0m\u001b[0;34m\u001b[0m\u001b[0;34m\u001b[0m\u001b[0m\n\u001b[0m\u001b[1;32m      2\u001b[0m \u001b[0mprint\u001b[0m\u001b[0;34m(\u001b[0m\u001b[0mindices_list\u001b[0m\u001b[0;34m)\u001b[0m\u001b[0;34m\u001b[0m\u001b[0;34m\u001b[0m\u001b[0m\n",
            "\u001b[0;31mTypeError\u001b[0m: unique() got an unexpected keyword argument 'return_indeks'"
          ]
        }
      ]
    },
    {
      "cell_type": "code",
      "source": [
        "nilai_unik, jumlah_kejadian = np.unik(a, jumlah_kembali = True)\n",
        "print(jumlah_kejadian)"
      ],
      "metadata": {
        "colab": {
          "base_uri": "https://localhost:8080/",
          "height": 488
        },
        "id": "d2b7kDkC2E_L",
        "outputId": "d5e8c2a0-5804-43a8-d596-db1f57d988e6"
      },
      "execution_count": null,
      "outputs": [
        {
          "output_type": "error",
          "ename": "AttributeError",
          "evalue": "module 'numpy' has no attribute 'unik'",
          "traceback": [
            "\u001b[0;31m---------------------------------------------------------------------------\u001b[0m",
            "\u001b[0;31mAttributeError\u001b[0m                            Traceback (most recent call last)",
            "\u001b[0;32m<ipython-input-144-50a16c05c0b8>\u001b[0m in \u001b[0;36m<cell line: 1>\u001b[0;34m()\u001b[0m\n\u001b[0;32m----> 1\u001b[0;31m \u001b[0mnilai_unik\u001b[0m\u001b[0;34m,\u001b[0m \u001b[0mjumlah_kejadian\u001b[0m \u001b[0;34m=\u001b[0m \u001b[0mnp\u001b[0m\u001b[0;34m.\u001b[0m\u001b[0munik\u001b[0m\u001b[0;34m(\u001b[0m\u001b[0ma\u001b[0m\u001b[0;34m,\u001b[0m \u001b[0mjumlah_kembali\u001b[0m \u001b[0;34m=\u001b[0m \u001b[0;32mTrue\u001b[0m\u001b[0;34m)\u001b[0m\u001b[0;34m\u001b[0m\u001b[0;34m\u001b[0m\u001b[0m\n\u001b[0m\u001b[1;32m      2\u001b[0m \u001b[0mprint\u001b[0m\u001b[0;34m(\u001b[0m\u001b[0mjumlah_kejadian\u001b[0m\u001b[0;34m)\u001b[0m\u001b[0;34m\u001b[0m\u001b[0;34m\u001b[0m\u001b[0m\n",
            "\u001b[0;32m/usr/local/lib/python3.10/dist-packages/numpy/__init__.py\u001b[0m in \u001b[0;36m__getattr__\u001b[0;34m(attr)\u001b[0m\n\u001b[1;32m    326\u001b[0m             \u001b[0;32mraise\u001b[0m \u001b[0mRuntimeError\u001b[0m\u001b[0;34m(\u001b[0m\u001b[0;34m\"Tester was removed in NumPy 1.25.\"\u001b[0m\u001b[0;34m)\u001b[0m\u001b[0;34m\u001b[0m\u001b[0;34m\u001b[0m\u001b[0m\n\u001b[1;32m    327\u001b[0m \u001b[0;34m\u001b[0m\u001b[0m\n\u001b[0;32m--> 328\u001b[0;31m         raise AttributeError(\"module {!r} has no attribute \"\n\u001b[0m\u001b[1;32m    329\u001b[0m                              \"{!r}\".format(__name__, attr))\n\u001b[1;32m    330\u001b[0m \u001b[0;34m\u001b[0m\u001b[0m\n",
            "\u001b[0;31mAttributeError\u001b[0m: module 'numpy' has no attribute 'unik'"
          ]
        }
      ]
    },
    {
      "cell_type": "code",
      "source": [
        "a_2d = np.array([[1, 2, 3, 4], [5, 6, 7, 8], [9, 10, 11, 12], [1,\n",
        "2, 3, 4]])"
      ],
      "metadata": {
        "id": "B8k5q77T2Jz-"
      },
      "execution_count": null,
      "outputs": []
    },
    {
      "cell_type": "markdown",
      "source": [
        "Anda dapat menemukan nilai unik dengan:"
      ],
      "metadata": {
        "id": "XuRdt3SlXiBq"
      }
    },
    {
      "cell_type": "code",
      "source": [
        "nilai_unik = np.unique(a_2d)\n",
        "print(nilai_unik)"
      ],
      "metadata": {
        "colab": {
          "base_uri": "https://localhost:8080/"
        },
        "id": "ztz8CsbB2K1Y",
        "outputId": "1d3a6731-c3aa-4b0b-8c9e-9556c840655b"
      },
      "execution_count": null,
      "outputs": [
        {
          "output_type": "stream",
          "name": "stdout",
          "text": [
            "[ 1  2  3  4  5  6  7  8  9 10 11 12]\n"
          ]
        }
      ]
    },
    {
      "cell_type": "markdown",
      "source": [
        "Jika Anda ingin mendapatkan baris atau kolom unik, pastikan untuk meneruskan argumen sumbu . Untuk\n",
        "menemukan baris unik, tentukan sumbu=0 dan untuk kolom, tentukan sumbu=1."
      ],
      "metadata": {
        "id": "rzRgHSrrXnAJ"
      }
    },
    {
      "cell_type": "code",
      "source": [
        "unique_rows = np.unique(a_2d, axis=0)\n",
        "print(unique_rows)"
      ],
      "metadata": {
        "colab": {
          "base_uri": "https://localhost:8080/"
        },
        "id": "CTlAaOZP2Nz1",
        "outputId": "b166e296-6b9f-420a-e353-9407c1a4ea89"
      },
      "execution_count": null,
      "outputs": [
        {
          "output_type": "stream",
          "name": "stdout",
          "text": [
            "[[ 1  2  3  4]\n",
            " [ 5  6  7  8]\n",
            " [ 9 10 11 12]]\n"
          ]
        }
      ]
    },
    {
      "cell_type": "markdown",
      "source": [
        "Untuk mendapatkan baris unik, posisi indeks, dan jumlah kemunculan, Anda dapat menggunakan:"
      ],
      "metadata": {
        "id": "I-eA8DLdXrVz"
      }
    },
    {
      "cell_type": "code",
      "source": [
        "unique_rows, indices, occurrence_count = np.unique(\n",
        "\n",
        "a_2d, axis=0, return_counts = True, return_index = True)\n",
        "print(unique_rows)\n",
        "\n",
        "print(indices)\n",
        "\n",
        " print(jumlah_kejadian)"
      ],
      "metadata": {
        "colab": {
          "base_uri": "https://localhost:8080/",
          "height": 124
        },
        "id": "ivy27a5L2SsT",
        "outputId": "70e372e0-1dcf-4eeb-9ffb-8fda6ff659e1"
      },
      "execution_count": null,
      "outputs": [
        {
          "output_type": "error",
          "ename": "IndentationError",
          "evalue": "unexpected indent (<ipython-input-148-d8d2781c1f4e>, line 8)",
          "traceback": [
            "\u001b[0;36m  File \u001b[0;32m\"<ipython-input-148-d8d2781c1f4e>\"\u001b[0;36m, line \u001b[0;32m8\u001b[0m\n\u001b[0;31m    print(jumlah_kejadian)\u001b[0m\n\u001b[0m    ^\u001b[0m\n\u001b[0;31mIndentationError\u001b[0m\u001b[0;31m:\u001b[0m unexpected indent\n"
          ]
        }
      ]
    },
    {
      "cell_type": "markdown",
      "source": [
        "Anda mungkin juga perlu mengganti dimensi matriks. Hal ini dapat terjadi ketika, misalnya, Anda\n",
        "memiliki model yang mengharapkan bentuk masukan tertentu yang berbeda dari kumpulan data\n",
        "Anda. Di sinilah metode pembentukan ulang dapat berguna. Anda hanya perlu memasukkan\n",
        "dimensi baru yang Anda inginkan. matriks."
      ],
      "metadata": {
        "id": "qpi_4PTkXx8D"
      }
    },
    {
      "cell_type": "code",
      "source": [
        "data.reshape(2, 3)\n",
        "\n",
        "data.reshape(3, 2)"
      ],
      "metadata": {
        "colab": {
          "base_uri": "https://localhost:8080/"
        },
        "id": "mJw4LDy72X7x",
        "outputId": "64c2fb49-8aee-4746-9e28-55133282c2e6"
      },
      "execution_count": null,
      "outputs": [
        {
          "output_type": "execute_result",
          "data": {
            "text/plain": [
              "array([[1, 2],\n",
              "       [3, 4],\n",
              "       [5, 6]])"
            ]
          },
          "metadata": {},
          "execution_count": 149
        }
      ]
    },
    {
      "cell_type": "markdown",
      "source": [
        "Anda juga dapat menggunakan .transpose() untuk membalikkan atau mengubah sumbu array sesuai dengan\n",
        "nilai yang Anda tentukan.\n",
        "\n",
        "Jika Anda memulai dengan array ini:"
      ],
      "metadata": {
        "id": "MAMxH8oNX3R4"
      }
    },
    {
      "cell_type": "code",
      "source": [
        "arr = np.arange(6).reshape((2, 3))\n",
        "arr"
      ],
      "metadata": {
        "colab": {
          "base_uri": "https://localhost:8080/"
        },
        "id": "AiO2_2fm2aca",
        "outputId": "68ac2e5a-e4e9-41dc-cd8c-ac2e7f7fdb7e"
      },
      "execution_count": null,
      "outputs": [
        {
          "output_type": "execute_result",
          "data": {
            "text/plain": [
              "array([[0, 1, 2],\n",
              "       [3, 4, 5]])"
            ]
          },
          "metadata": {},
          "execution_count": 150
        }
      ]
    },
    {
      "cell_type": "markdown",
      "source": [
        "Anda dapat mengubah urutan array Anda dengan arr.transpose()."
      ],
      "metadata": {
        "id": "lWIZyLWYX_R-"
      }
    },
    {
      "cell_type": "code",
      "source": [
        "arr.transpose()"
      ],
      "metadata": {
        "colab": {
          "base_uri": "https://localhost:8080/"
        },
        "id": "kA4MKC0a2deb",
        "outputId": "ca00eff5-7d06-4fe0-f425-3a9249e28b5f"
      },
      "execution_count": null,
      "outputs": [
        {
          "output_type": "execute_result",
          "data": {
            "text/plain": [
              "array([[0, 3],\n",
              "       [1, 4],\n",
              "       [2, 5]])"
            ]
          },
          "metadata": {},
          "execution_count": 151
        }
      ]
    },
    {
      "cell_type": "markdown",
      "source": [
        "Anda juga dapat menggunakan arr.T:"
      ],
      "metadata": {
        "id": "8ykPdzy6YCoo"
      }
    },
    {
      "cell_type": "code",
      "source": [
        "arr.T"
      ],
      "metadata": {
        "colab": {
          "base_uri": "https://localhost:8080/"
        },
        "id": "lyFGdXc02nzF",
        "outputId": "9d3ac8ee-e856-4810-e81d-a907bc063b65"
      },
      "execution_count": null,
      "outputs": [
        {
          "output_type": "execute_result",
          "data": {
            "text/plain": [
              "array([[0, 3],\n",
              "       [1, 4],\n",
              "       [2, 5]])"
            ]
          },
          "metadata": {},
          "execution_count": 152
        }
      ]
    },
    {
      "cell_type": "markdown",
      "source": [
        "Untuk mempelajari selengkapnya tentang transpos dan pembentukan ulang array, lihat transpos dan membentuk kembali.\n",
        "\n",
        "Cara membalikkan array\n",
        "\n",
        "Membalikkan array 1D\n",
        "Jika Anda memulai dengan array 1D seperti ini:"
      ],
      "metadata": {
        "id": "LaEI3SYbYG5G"
      }
    },
    {
      "cell_type": "code",
      "source": [
        "arr = np.array([1, 2, 3, 4, 5, 6, 7, 8])"
      ],
      "metadata": {
        "id": "np0KO2mA2pL7"
      },
      "execution_count": null,
      "outputs": []
    },
    {
      "cell_type": "markdown",
      "source": [
        "Anda dapat membalikkannya dengan:"
      ],
      "metadata": {
        "id": "8paqhBn2YYVQ"
      }
    },
    {
      "cell_type": "code",
      "source": [
        "reversed_arr = np.flip(arr)"
      ],
      "metadata": {
        "id": "LRJOhWEH2rvz"
      },
      "execution_count": null,
      "outputs": []
    },
    {
      "cell_type": "markdown",
      "source": [
        "Membalikkan array 2D\n",
        "Array 2D bekerja dengan cara yang hampir sama."
      ],
      "metadata": {
        "id": "srEgKOCDYcOG"
      }
    },
    {
      "cell_type": "code",
      "source": [
        "print('Reversed Array: ', reversed_arr)"
      ],
      "metadata": {
        "colab": {
          "base_uri": "https://localhost:8080/"
        },
        "id": "NxLadFVM2wbj",
        "outputId": "4753632c-b7e5-49e2-a42e-7fd9348602e3"
      },
      "execution_count": null,
      "outputs": [
        {
          "output_type": "stream",
          "name": "stdout",
          "text": [
            "Reversed Array:  [8 7 6 5 4 3 2 1]\n"
          ]
        }
      ]
    },
    {
      "cell_type": "markdown",
      "source": [
        "Anda dapat dengan mudah membalikkan baris saja dengan:"
      ],
      "metadata": {
        "id": "BK1N9kPrYjF3"
      }
    },
    {
      "cell_type": "code",
      "source": [
        "arr_2d = np.array([[1, 2, 3, 4], [5, 6, 7, 8], [9, 10, 11, 12]])"
      ],
      "metadata": {
        "id": "BL-TcIMT22VC"
      },
      "execution_count": null,
      "outputs": []
    },
    {
      "cell_type": "markdown",
      "source": [
        "Atau balikkan hanya kolom dengan:"
      ],
      "metadata": {
        "id": "PpkQEsCZYm_r"
      }
    },
    {
      "cell_type": "code",
      "source": [
        "reversed_arr = np.flip(arr_2d)\n",
        "print(reversed_arr)"
      ],
      "metadata": {
        "colab": {
          "base_uri": "https://localhost:8080/"
        },
        "id": "B2tRm_Mr4yCd",
        "outputId": "6f040c30-a0c3-466c-d7f2-25d4845c009c"
      },
      "execution_count": null,
      "outputs": [
        {
          "output_type": "stream",
          "name": "stdout",
          "text": [
            "[[12 11 10  9]\n",
            " [ 8  7  6  5]\n",
            " [ 4  3  2  1]]\n"
          ]
        }
      ]
    },
    {
      "cell_type": "markdown",
      "source": [
        "Membentuk kembali dan meratakan array multidimensi\n",
        "Ada dua cara populer untuk meratakan array: .flatten() dan .ravel(). Perbedaan utama antara\n",
        "keduanya adalah bahwa array baru yang dibuat menggunakan ravel() sebenarnya adalah\n",
        "referensi ke array induk (yaitu, “tampilan”). Ini berarti bahwa setiap perubahan pada array baru akan\n",
        "mempengaruhi induknya. susunan juga. Karena ravel tidak membuat salinan, memorinya efisien."
      ],
      "metadata": {
        "id": "I6PemVPhYz9A"
      }
    },
    {
      "cell_type": "code",
      "source": [
        "reversed_arr_rows = np.flip(arr_2d, axis=0)\n",
        "print(reversed_arr_rows)"
      ],
      "metadata": {
        "colab": {
          "base_uri": "https://localhost:8080/"
        },
        "id": "sl603Cq25CLn",
        "outputId": "65bd25e1-1519-44f8-f6f6-3d851c3e46c0"
      },
      "execution_count": null,
      "outputs": [
        {
          "output_type": "stream",
          "name": "stdout",
          "text": [
            "[[ 9 10 11 12]\n",
            " [ 5  6  7  8]\n",
            " [ 1  2  3  4]]\n"
          ]
        }
      ]
    },
    {
      "cell_type": "markdown",
      "source": [
        "Anda dapat menggunakan flatten untuk meratakan array Anda menjadi array 1D."
      ],
      "metadata": {
        "id": "OfBdWnvUZAqW"
      }
    },
    {
      "cell_type": "code",
      "source": [
        "reversed_arr_columns = np.flip(arr_2d, axis=1)\n",
        "print(reversed_arr_columns)"
      ],
      "metadata": {
        "colab": {
          "base_uri": "https://localhost:8080/"
        },
        "id": "RxBvQ05j5G1e",
        "outputId": "683da080-7390-4483-d943-967543f7edd7"
      },
      "execution_count": null,
      "outputs": [
        {
          "output_type": "stream",
          "name": "stdout",
          "text": [
            "[[ 4  3  2  1]\n",
            " [ 8  7  6  5]\n",
            " [12 11 10  9]]\n"
          ]
        }
      ]
    },
    {
      "cell_type": "code",
      "source": [
        "arr_2d[1] = np.flip(arr_2d[1])\n",
        "print(arr_2d)"
      ],
      "metadata": {
        "colab": {
          "base_uri": "https://localhost:8080/"
        },
        "id": "1WqCdUxH5KT5",
        "outputId": "50e3b1c7-2e27-4c16-840d-149b5e9fc984"
      },
      "execution_count": null,
      "outputs": [
        {
          "output_type": "stream",
          "name": "stdout",
          "text": [
            "[[ 1  2  3  4]\n",
            " [ 8  7  6  5]\n",
            " [ 9 10 11 12]]\n"
          ]
        }
      ]
    },
    {
      "cell_type": "code",
      "source": [
        "arr_2d[:,1] = np.flip(arr_2d[:,1])\n",
        "print(arr_2d)"
      ],
      "metadata": {
        "colab": {
          "base_uri": "https://localhost:8080/"
        },
        "id": "siwq9Tmr5N4z",
        "outputId": "e1046d80-7133-4f4d-fea4-44eb74395504"
      },
      "execution_count": null,
      "outputs": [
        {
          "output_type": "stream",
          "name": "stdout",
          "text": [
            "[[ 1 10  3  4]\n",
            " [ 8  7  6  5]\n",
            " [ 9  2 11 12]]\n"
          ]
        }
      ]
    },
    {
      "cell_type": "code",
      "source": [
        "x = np.array([[1, 2, 3, 4], [5, 6, 7, 8], [9, 10, 11, 12]])"
      ],
      "metadata": {
        "id": "QdNmYl5m5T9V"
      },
      "execution_count": null,
      "outputs": []
    },
    {
      "cell_type": "code",
      "source": [
        "x.flatten()"
      ],
      "metadata": {
        "colab": {
          "base_uri": "https://localhost:8080/"
        },
        "id": "cID9Tiku5WdY",
        "outputId": "87439391-9ac4-4188-e6ef-fdc1a2cace8f"
      },
      "execution_count": null,
      "outputs": [
        {
          "output_type": "execute_result",
          "data": {
            "text/plain": [
              "array([ 1,  2,  3,  4,  5,  6,  7,  8,  9, 10, 11, 12])"
            ]
          },
          "metadata": {},
          "execution_count": 166
        }
      ]
    },
    {
      "cell_type": "markdown",
      "source": [
        "Saat Anda menggunakan flatten, perubahan pada array baru Anda tidak akan mengubah array induk.\n",
        " Misalnya"
      ],
      "metadata": {
        "id": "iJwNVcaeZTm1"
      }
    },
    {
      "cell_type": "code",
      "source": [
        "a1 = x.flatten()\n",
        "a1[0] = 99\n",
        "print(x)\n",
        "print(a1)"
      ],
      "metadata": {
        "colab": {
          "base_uri": "https://localhost:8080/"
        },
        "id": "8lGT1gzS5YzW",
        "outputId": "7951fd45-8e51-4dbe-ee55-26835eee3f39"
      },
      "execution_count": null,
      "outputs": [
        {
          "output_type": "stream",
          "name": "stdout",
          "text": [
            "[[ 1  2  3  4]\n",
            " [ 5  6  7  8]\n",
            " [ 9 10 11 12]]\n",
            "[99  2  3  4  5  6  7  8  9 10 11 12]\n"
          ]
        }
      ]
    },
    {
      "cell_type": "markdown",
      "source": [
        "Namun saat Anda menggunakan ravel, perubahan yang Anda buat pada array baru akan memengaruhi array induk. Misalnya"
      ],
      "metadata": {
        "id": "IGjoLovpZgHa"
      }
    },
    {
      "cell_type": "code",
      "source": [
        "a2 = x.ravel()\n",
        "a2[0] = 98\n",
        "print(x)\n",
        "print(a2)"
      ],
      "metadata": {
        "colab": {
          "base_uri": "https://localhost:8080/"
        },
        "id": "IdDmP1xc5dri",
        "outputId": "70818cb1-194d-4813-f8a4-94a323baf3b9"
      },
      "execution_count": null,
      "outputs": [
        {
          "output_type": "stream",
          "name": "stdout",
          "text": [
            "[[98  2  3  4]\n",
            " [ 5  6  7  8]\n",
            " [ 9 10 11 12]]\n",
            "[98  2  3  4  5  6  7  8  9 10 11 12]\n"
          ]
        }
      ]
    },
    {
      "cell_type": "markdown",
      "source": [
        "Baca selengkapnya tentang perataan di ndarray.flatten dan berceloteh demi berceloteh.\n",
        "\n",
        "Cara mengakses docstring untuk informasi lebih lanjut"
      ],
      "metadata": {
        "id": "kFgu52lWZ6gg"
      }
    },
    {
      "cell_type": "code",
      "source": [
        "a = np.array([1, 2, 3, 4, 5, 6])"
      ],
      "metadata": {
        "id": "wzjv4qRg5lSp"
      },
      "execution_count": null,
      "outputs": []
    },
    {
      "cell_type": "markdown",
      "source": [
        "Kemudian Anda dapat memperoleh banyak informasi berguna (detail pertama tentang a itu sendiri, diikuti oleh\n",
        "docstring dari ndarray yang mana a merupakan contohnya):\n",
        "Ini juga berfungsi untuk fungsi dan objek lain yang Anda buat. Ingatlah untuk menyertakan docstring\n",
        "dengan fungsi Anda menggunakan string literal (\"\"\" \"\"\"\n",
        "dokumentasi)."
      ],
      "metadata": {
        "id": "zmGipzd1aEJn"
      }
    },
    {
      "cell_type": "code",
      "source": [
        "a = np.array([1, 2, 3, 4, 5, 6])"
      ],
      "metadata": {
        "id": "gDMADC1e5uBq"
      },
      "execution_count": null,
      "outputs": []
    },
    {
      "cell_type": "code",
      "source": [
        "np.save('nama file', a)"
      ],
      "metadata": {
        "id": "lM1qRYPR5yJd"
      },
      "execution_count": null,
      "outputs": []
    },
    {
      "cell_type": "markdown",
      "source": [
        "Anda dapat menyimpannya sebagai \"nama file.npy\" dengan:\n",
        "Anda dapat menggunakan np.load() untuk merekonstruksi array Anda."
      ],
      "metadata": {
        "id": "DGbud4EjaO2U"
      }
    },
    {
      "cell_type": "code",
      "source": [
        "b = np.load('namafile.npy')"
      ],
      "metadata": {
        "colab": {
          "base_uri": "https://localhost:8080/",
          "height": 456
        },
        "id": "oOTxLgU5526g",
        "outputId": "8c1fed60-8fca-4e9c-b387-95a3dba45985"
      },
      "execution_count": null,
      "outputs": [
        {
          "output_type": "error",
          "ename": "FileNotFoundError",
          "evalue": "[Errno 2] No such file or directory: 'namafile.npy'",
          "traceback": [
            "\u001b[0;31m---------------------------------------------------------------------------\u001b[0m",
            "\u001b[0;31mFileNotFoundError\u001b[0m                         Traceback (most recent call last)",
            "\u001b[0;32m<ipython-input-181-1648721b6f3f>\u001b[0m in \u001b[0;36m<cell line: 1>\u001b[0;34m()\u001b[0m\n\u001b[0;32m----> 1\u001b[0;31m \u001b[0mb\u001b[0m \u001b[0;34m=\u001b[0m \u001b[0mnp\u001b[0m\u001b[0;34m.\u001b[0m\u001b[0mload\u001b[0m\u001b[0;34m(\u001b[0m\u001b[0;34m'namafile.npy'\u001b[0m\u001b[0;34m)\u001b[0m\u001b[0;34m\u001b[0m\u001b[0;34m\u001b[0m\u001b[0m\n\u001b[0m",
            "\u001b[0;32m/usr/local/lib/python3.10/dist-packages/numpy/lib/npyio.py\u001b[0m in \u001b[0;36mload\u001b[0;34m(file, mmap_mode, allow_pickle, fix_imports, encoding, max_header_size)\u001b[0m\n\u001b[1;32m    425\u001b[0m             \u001b[0mown_fid\u001b[0m \u001b[0;34m=\u001b[0m \u001b[0;32mFalse\u001b[0m\u001b[0;34m\u001b[0m\u001b[0;34m\u001b[0m\u001b[0m\n\u001b[1;32m    426\u001b[0m         \u001b[0;32melse\u001b[0m\u001b[0;34m:\u001b[0m\u001b[0;34m\u001b[0m\u001b[0;34m\u001b[0m\u001b[0m\n\u001b[0;32m--> 427\u001b[0;31m             \u001b[0mfid\u001b[0m \u001b[0;34m=\u001b[0m \u001b[0mstack\u001b[0m\u001b[0;34m.\u001b[0m\u001b[0menter_context\u001b[0m\u001b[0;34m(\u001b[0m\u001b[0mopen\u001b[0m\u001b[0;34m(\u001b[0m\u001b[0mos_fspath\u001b[0m\u001b[0;34m(\u001b[0m\u001b[0mfile\u001b[0m\u001b[0;34m)\u001b[0m\u001b[0;34m,\u001b[0m \u001b[0;34m\"rb\"\u001b[0m\u001b[0;34m)\u001b[0m\u001b[0;34m)\u001b[0m\u001b[0;34m\u001b[0m\u001b[0;34m\u001b[0m\u001b[0m\n\u001b[0m\u001b[1;32m    428\u001b[0m             \u001b[0mown_fid\u001b[0m \u001b[0;34m=\u001b[0m \u001b[0;32mTrue\u001b[0m\u001b[0;34m\u001b[0m\u001b[0;34m\u001b[0m\u001b[0m\n\u001b[1;32m    429\u001b[0m \u001b[0;34m\u001b[0m\u001b[0m\n",
            "\u001b[0;31mFileNotFoundError\u001b[0m: [Errno 2] No such file or directory: 'namafile.npy'"
          ]
        }
      ]
    },
    {
      "cell_type": "markdown",
      "source": [
        "Jika Anda ingin memeriksa array Anda, Anda dapat menjalankan:"
      ],
      "metadata": {
        "id": "hKqDf1HdaWe-"
      }
    },
    {
      "cell_type": "code",
      "source": [
        "print(b)"
      ],
      "metadata": {
        "colab": {
          "base_uri": "https://localhost:8080/"
        },
        "id": "_9MQ-G7m53pn",
        "outputId": "7f7fc543-bd07-4217-96b0-916a28cf23e1"
      },
      "execution_count": null,
      "outputs": [
        {
          "output_type": "stream",
          "name": "stdout",
          "text": [
            "[[1 1]\n",
            " [2 2]]\n"
          ]
        }
      ]
    },
    {
      "cell_type": "markdown",
      "source": [
        "Anda dapat menyimpan array NumPy sebagai file teks biasa seperti file .csv atau .txt dengan np.savetxt.\n",
        "Misalnya, jika Anda membuat array ini:"
      ],
      "metadata": {
        "id": "5Lg0al9uabFS"
      }
    },
    {
      "cell_type": "code",
      "source": [
        "csv_arr = np.array([1, 2, 3, 4, 5, 6, 7, 8])"
      ],
      "metadata": {
        "id": "fYq4AdEN55fL"
      },
      "execution_count": null,
      "outputs": []
    },
    {
      "cell_type": "markdown",
      "source": [
        "Anda dapat dengan mudah menyimpannya sebagai file .csv dengan nama “new_file.csv” seperti ini:"
      ],
      "metadata": {
        "id": "byQ1Rj6eahbd"
      }
    },
    {
      "cell_type": "code",
      "source": [
        "np.savetxt('new_file.csv', csv_arr)"
      ],
      "metadata": {
        "id": "23qwTR3p578B"
      },
      "execution_count": null,
      "outputs": []
    },
    {
      "cell_type": "markdown",
      "source": [
        "Anda dapat dengan cepat dan mudah memuat file teks yang disimpan menggunakan loadtxt():"
      ],
      "metadata": {
        "id": "D3fPj124alCk"
      }
    },
    {
      "cell_type": "code",
      "source": [
        "np.loadtxt('new_file.csv')"
      ],
      "metadata": {
        "colab": {
          "base_uri": "https://localhost:8080/"
        },
        "id": "VBAb-RsQ59-V",
        "outputId": "bc5d252b-eccb-4764-bf4f-6f8df8f4d075"
      },
      "execution_count": null,
      "outputs": [
        {
          "output_type": "execute_result",
          "data": {
            "text/plain": [
              "array([1., 2., 3., 4., 5., 6., 7., 8.])"
            ]
          },
          "metadata": {},
          "execution_count": 178
        }
      ]
    },
    {
      "cell_type": "markdown",
      "source": [
        "Fungsi savetxt() dan loadtxt() menerima parameter opsional tambahan seperti header, footer,\n",
        "dan pembatas. Meskipun file teks lebih mudah untuk dibagikan, file .npy dan .npz lebih kecil dan\n",
        "lebih cepat dibaca. Jika Anda memerlukan penanganan yang lebih canggih terhadap file teks\n",
        "Anda (misalnya, jika Anda perlu bekerja dengan baris yang berisi nilai yang hilang), Anda dapat\n",
        "menggunakan genfromtxt fungsi."
      ],
      "metadata": {
        "id": "OlrxdBtjapDx"
      }
    },
    {
      "cell_type": "code",
      "source": [
        "a = np.array([[-2.58289208, 0.43014843, -1.24082018, 1.59572603],\n",
        "              [ 0.99027828, 1.17150989,0.94125714 , -0.14692469],\n",
        "              [ 0,81299683, -0,95068423, 0,11769564],[ 0,20484034, 0,34784527, 1,96979195 ,\n",
        " 0,51992837]])"
      ],
      "metadata": {
        "id": "zZU3jp7JGtek"
      },
      "execution_count": null,
      "outputs": []
    },
    {
      "cell_type": "markdown",
      "source": [
        "Anda dapat membuat kerangka data Pandas"
      ],
      "metadata": {
        "id": "z99MWNEmau4t"
      }
    },
    {
      "cell_type": "code",
      "source": [
        "a = np.array([2, 1, 5, 7, 4, 6, 8, 14, 10, 9, 18, 20, 22])"
      ],
      "metadata": {
        "id": "iWdaR8QFIpSo"
      },
      "execution_count": null,
      "outputs": []
    },
    {
      "cell_type": "markdown",
      "source": [
        "Jika Anda sudah menginstal Matplotlib, Anda dapat mengimpornya dengan:"
      ],
      "metadata": {
        "id": "Qh8XqJS1a2t4"
      }
    },
    {
      "cell_type": "code",
      "source": [
        "impor matplotlib.pyplot sebagai plt\n",
        "plt.plot(a)"
      ],
      "metadata": {
        "id": "a2kYDD66Ixsn"
      },
      "execution_count": null,
      "outputs": []
    },
    {
      "cell_type": "markdown",
      "source": [
        "Yang perlu Anda lakukan untuk memplot nilai-nilai Anda adalah menjalankan:"
      ],
      "metadata": {
        "id": "VnwqmBcVa7iy"
      }
    },
    {
      "cell_type": "code",
      "source": [
        "x = np.linspace(0, 5, 20)\n",
        "y = np.linspace(0, 10, 20)\n",
        "plt.plot(x, y, 'purple') #\n",
        "baris\n",
        "plt.plot(x, y, 'o') # titik"
      ],
      "metadata": {
        "id": "-kRYwFahI4Ib"
      },
      "execution_count": null,
      "outputs": []
    },
    {
      "cell_type": "markdown",
      "source": [
        "Dengan Matplotlib, Anda memiliki akses ke sejumlah besar opsi visualisasi."
      ],
      "metadata": {
        "id": "0oKdl1lPbBeW"
      }
    },
    {
      "cell_type": "code",
      "source": [
        "Y = np.rentang(-5, 5, 0,15)\n",
        "X, Y = np.meshgrid(X, Y)\n",
        "R = np.sqrt(X**2 + Y**2)\n",
        "Z = np.sin(R)\n",
        "ax.plot_surface(X, Y,\n",
        "Z, rstride=1, cstride=1, cmap='viridis')"
      ],
      "metadata": {
        "id": "Y8Ez0lUbJmoW"
      },
      "execution_count": null,
      "outputs": []
    },
    {
      "cell_type": "markdown",
      "source": [
        "Untuk membaca lebih lanjut tentang Matplotlib dan apa yang dapat dilakukannya, lihat dokumentasi resmi.\n",
        "Untuk petunjuk mengenai instalasi Matplotlib,"
      ],
      "metadata": {
        "id": "z6NpxEr3bGx-"
      }
    }
  ]
}